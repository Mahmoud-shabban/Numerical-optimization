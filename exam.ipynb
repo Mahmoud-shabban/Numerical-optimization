{
 "cells": [
  {
   "cell_type": "code",
   "execution_count": 1,
   "metadata": {},
   "outputs": [],
   "source": [
    "import numpy as np\n",
    "import pandas as pd\n",
    "import matplotlib.pyplot as plt \n",
    "import seaborn as sns\n",
    "%matplotlib inline"
   ]
  },
  {
   "cell_type": "markdown",
   "metadata": {},
   "source": [
    "## implementing ADAM algorithm"
   ]
  },
  {
   "cell_type": "code",
   "execution_count": 2,
   "metadata": {},
   "outputs": [],
   "source": [
    "## road map :\n",
    "# 1- implement all for single variable \n",
    "# 2- implemnt for multivariable\n"
   ]
  },
  {
   "cell_type": "code",
   "execution_count": 3,
   "metadata": {},
   "outputs": [],
   "source": [
    "x = np.arange(20).reshape(20,1)\n",
    "a = -1; b = 2\n",
    "y = a*x + b "
   ]
  },
  {
   "cell_type": "code",
   "execution_count": 4,
   "metadata": {},
   "outputs": [],
   "source": [
    "# 1- momentum based GD Batch and single variable if we want multi we get n of features and change the dimes to n,1\n",
    "def MBGD(x,y, alpha, gamma, epoches = 1000):\n",
    "    m = x.shape[0]\n",
    "    theta = np.array([0,0]).reshape(2,1)\n",
    "    theta0_hist = []\n",
    "    theta1_hist = []\n",
    "    cost_hist = []\n",
    "    moment = np.array([0,0]).reshape(2,1)\n",
    "    x = np.column_stack((np.ones_like(x), x))\n",
    "    c = 0\n",
    "    for i in range(epoches):\n",
    "        # theta vector gradient section\n",
    "        grad_j_theta = (1/m) * np.sum(((x @ theta)-y) * x, axis=0 ).reshape(2,1) \n",
    "        cost = (1/(2*m)) * np.sum(np.square((x @ theta) -y)) \n",
    "        moment = gamma * moment + alpha* grad_j_theta\n",
    "        theta = theta - moment # update step\n",
    "\n",
    "        # adding the results of the epoch\n",
    "        # if c == 1:\n",
    "        #     print(theta[1][0])\n",
    "        # c += 1\n",
    "        theta0_hist.append(theta[0][0])\n",
    "        theta1_hist.append(theta[1][0])\n",
    "        cost_hist.append(cost)\n",
    "        if i > 1:\n",
    "            if abs(cost - cost_hist[-2]) < .001:\n",
    "                \n",
    "                print(cost_hist[-2])\n",
    "                print(cost)\n",
    "                print(i)\n",
    "                break\n",
    "            elif grad_j_theta.T @ grad_j_theta < .1:\n",
    "                print('grad')\n",
    "                print(i)\n",
    "                break \n",
    "        \n",
    "    # return results to user\n",
    "    return theta0_hist, theta1_hist, cost_hist\n"
   ]
  },
  {
   "cell_type": "code",
   "execution_count": 5,
   "metadata": {},
   "outputs": [
    {
     "name": "stdout",
     "output_type": "stream",
     "text": [
      "0.5649128216311716\n",
      "0.5640303265567198\n",
      "34\n"
     ]
    }
   ],
   "source": [
    "t0, t1, j = MBGD(x,y,.001,.1)\n",
    "# t0"
   ]
  },
  {
   "cell_type": "code",
   "execution_count": 6,
   "metadata": {},
   "outputs": [
    {
     "data": {
      "text/plain": [
       "[0.5891660558054987,\n",
       " 0.5826436142771536,\n",
       " 0.5777385346379152,\n",
       " 0.5740280632484459,\n",
       " 0.5711999614029825,\n",
       " 0.5690236148531159,\n",
       " 0.567328695791588,\n",
       " 0.5659894029550792,\n",
       " 0.5649128216311716]"
      ]
     },
     "execution_count": 6,
     "metadata": {},
     "output_type": "execute_result"
    }
   ],
   "source": [
    "j[-10:-1]"
   ]
  },
  {
   "cell_type": "code",
   "execution_count": 7,
   "metadata": {},
   "outputs": [
    {
     "data": {
      "image/png": "[encoded data removed]",
      "text/plain": [
       "<Figure size 432x288 with 1 Axes>"
      ]
     },
     "metadata": {
      "needs_background": "light"
     },
     "output_type": "display_data"
    }
   ],
   "source": [
    "fig, ax = plt.subplots()\n",
    "ax.plot(t1, j, linestyle = 'none', marker = 'o')\n",
    "# ax2 = ax.twiny()\n",
    "# ax2.plot(t0, j, color = 'r', linestyle = 'none', marker= 'x')\n",
    "ax.set_xlabel('theta/epoches',color = 'g', fontdict={'size':15})\n",
    "ax.set_ylabel('cost j', color = 'g', fontdict={'size':15});"
   ]
  },
  {
   "cell_type": "code",
   "execution_count": 8,
   "metadata": {},
   "outputs": [
    {
     "data": {
      "image/png": "[encoded data removed]",
      "text/plain": [
       "<Figure size 432x288 with 1 Axes>"
      ]
     },
     "metadata": {
      "needs_background": "light"
     },
     "output_type": "display_data"
    }
   ],
   "source": [
    "fig, ax = plt.subplots()\n",
    "ax.plot(range(len(j)), j, linestyle = 'none', marker = 'o')\n",
    "ax.set_xlabel('theta/epoches',color = 'g', fontdict={'size':15})\n",
    "ax.set_ylabel('cost j', color = 'g', fontdict={'size':15});"
   ]
  },
  {
   "cell_type": "code",
   "execution_count": 9,
   "metadata": {},
   "outputs": [
    {
     "name": "stdout",
     "output_type": "stream",
     "text": [
      "0.5640303265567198\n"
     ]
    },
    {
     "data": {
      "image/png": "[encoded data removed]",
      "text/plain": [
       "<Figure size 432x288 with 1 Axes>"
      ]
     },
     "metadata": {
      "needs_background": "light"
     },
     "output_type": "display_data"
    }
   ],
   "source": [
    "plt.scatter(x,y)\n",
    "print(j[-1])"
   ]
  },
  {
   "cell_type": "code",
   "execution_count": 11,
   "metadata": {},
   "outputs": [
    {
     "data": {
      "text/plain": [
       "0.9661178206168866"
      ]
     },
     "execution_count": 11,
     "metadata": {},
     "output_type": "execute_result"
    }
   ],
   "source": [
    "from sklearn.metrics import r2_score\n",
    "model = lambda t0, t1,x : t0 + t1 * x\n",
    "y_pred = model(t0[-1], t1[-1], x)\n",
    "r2_score(y,y_pred)"
   ]
  },
  {
   "cell_type": "code",
   "execution_count": 83,
   "metadata": {},
   "outputs": [],
   "source": [
    "# 1- momentum based GD Batch and single variable if we want multi we get n of features and change the dimes to n,1\n",
    "def MBGD_multi(x,y, alpha = .001, gamma = .0001, epoches = 1000):\n",
    "    m = x.shape[0]\n",
    "    n = x.shape[1]\n",
    "    theta = np.zeros((n+1,1))\n",
    "    theta_hist = []\n",
    "    # theta1_hist = []\n",
    "    cost_hist = []\n",
    "    moment = np.zeros((n+1,1))\n",
    "    x = np.column_stack((np.ones((m,1)), x))\n",
    "    y = y.reshape(m,1)\n",
    "    # print(x.shape)\n",
    "    # print(theta.shape)\n",
    "    c = 2\n",
    "    # print(moment)\n",
    "    for i in range(epoches):\n",
    "        # theta vector gradient section\n",
    "        # print(((x @ theta)-y).shape)\n",
    "        # grad_j_theta = (1/m) * (x.T @ ((x @ theta)-y))  #).reshape(n+1,1)\n",
    "        grad_j_theta = (1/m) * np.sum(((x @ theta)-y) * x, axis=0 ).reshape(n+1,1) \n",
    "        \n",
    "        cost = 1/(2*m) * np.sum(np.square((x @ theta) -y)) \n",
    "        moment = gamma * moment + alpha* grad_j_theta\n",
    "        theta = theta - moment # update step\n",
    "        # print(moment)\n",
    "        # break\n",
    "        #adding the results of the epoch\n",
    "        if c == 1 or c == 0:\n",
    "            print(moment)\n",
    "        c += 1\n",
    "        theta_hist.append(theta)\n",
    "        # theta1_hist.append(theta[1][0])\n",
    "        cost_hist.append(cost)\n",
    "        if i > 1:\n",
    "            if abs(cost - cost_hist[-2]) < .0001:\n",
    "                print('cost')\n",
    "                print(cost_hist[-2])\n",
    "                print(cost)\n",
    "                print(i)\n",
    "                break\n",
    "            else:\n",
    "                try:\n",
    "                    if np.square(np.linalg.norm(grad_j_theta, ord= 2)) < 10:\n",
    "                        \n",
    "                        print('grad')\n",
    "                        print(i)\n",
    "                        break\n",
    "                    # else:\n",
    "                    #     print('##########')\n",
    "                    #     print('moment is: ',moment)\n",
    "                    #     print('cosst is:',cost)\n",
    "                    #     print('gradient is:',grad_j_theta)\n",
    "                except:\n",
    "                    # print('***************')\n",
    "                    # print('moment is: ',moment)\n",
    "                    # print('cosst is:',cost)\n",
    "                    # print('gradient is:',grad_j_theta)\n",
    "                    pass \n",
    "        \n",
    "    # return results to user\n",
    "    print('final cost is:',cost)\n",
    "    return theta_hist, cost_hist\n"
   ]
  },
  {
   "cell_type": "code",
   "execution_count": null,
   "metadata": {},
   "outputs": [],
   "source": [
    "def train(x,y,func , alpha= .1, beta =.01, gamma= .01):\n",
    "    pass"
   ]
  },
  {
   "cell_type": "code",
   "execution_count": 84,
   "metadata": {},
   "outputs": [],
   "source": [
    "multival_data = np.genfromtxt('MultipleLR.csv',delimiter=',')\n",
    "x_multi =  multival_data[:,:-1]\n",
    "y_multi = multival_data[:,-1]"
   ]
  },
  {
   "cell_type": "code",
   "execution_count": 86,
   "metadata": {},
   "outputs": [
    {
     "name": "stdout",
     "output_type": "stream",
     "text": [
      "grad\n",
      "619\n",
      "final cost is: 3.350128203610418\n"
     ]
    }
   ],
   "source": [
    "t,j = MBGD_multi(x_multi,y_multi, alpha=.0001, gamma=.00001)"
   ]
  },
  {
   "cell_type": "code",
   "execution_count": 71,
   "metadata": {},
   "outputs": [],
   "source": [
    "t0 = [x[0] for x in t]\n",
    "t1 = [x[1] for x in t]\n",
    "t2 = [x[2] for x in t]\n",
    "t3 = [x[3] for x in t]"
   ]
  },
  {
   "cell_type": "code",
   "execution_count": 72,
   "metadata": {},
   "outputs": [
    {
     "data": {
      "image/png": "[encoded data removed]",
      "text/plain": [
       "<Figure size 432x288 with 1 Axes>"
      ]
     },
     "metadata": {
      "needs_background": "light"
     },
     "output_type": "display_data"
    }
   ],
   "source": [
    "fig, ax = plt.subplots()\n",
    "ax.plot(range(len(j)), j, linestyle = 'none', marker = 'o')\n",
    "ax.set_xlabel('theta/epoches',color = 'g', fontdict={'size':15})\n",
    "ax.set_ylabel('cost j', color = 'g', fontdict={'size':15});"
   ]
  },
  {
   "cell_type": "code",
   "execution_count": 66,
   "metadata": {},
   "outputs": [
    {
     "data": {
      "image/png": "[encoded data removed]",
      "text/plain": [
       "<Figure size 432x288 with 1 Axes>"
      ]
     },
     "metadata": {
      "needs_background": "light"
     },
     "output_type": "display_data"
    }
   ],
   "source": [
    "fig, ax = plt.subplots()\n",
    "ax.plot(t3, j, linestyle = 'none', marker = 'o')\n",
    "# ax2 = ax.twiny()\n",
    "# ax2.plot(t0, j, color = 'r', linestyle = 'none', marker= 'x')\n",
    "ax.set_xlabel('theta/epoches',color = 'g', fontdict={'size':15})\n",
    "ax.set_ylabel('cost j', color = 'g', fontdict={'size':15});"
   ]
  },
  {
   "cell_type": "code",
   "execution_count": 79,
   "metadata": {},
   "outputs": [
    {
     "data": {
      "text/plain": [
       "0.9873885322006759"
      ]
     },
     "execution_count": 79,
     "metadata": {},
     "output_type": "execute_result"
    }
   ],
   "source": [
    "x = np.column_stack((np.ones((25,1)), x_multi))\n",
    "model = lambda t,x : t0 + t1 * x\n",
    "y_pred = x @ t[-1]\n",
    "r2_score(y,y_pred)"
   ]
  },
  {
   "cell_type": "code",
   "execution_count": 2,
   "metadata": {},
   "outputs": [],
   "source": [
    "# 1- momentum based GD Batch and single variable if we want multi we get n of features and change the dimes to n,1\n",
    "def RMS(x,y, alpha = .001, beta = .01, epsilon = .00000000000000000000001, epoches = 1000):\n",
    "    m = x.shape[0]\n",
    "    n = x.shape[1]\n",
    "    theta = np.zeros((n+1,1))\n",
    "    theta_hist = []\n",
    "    # theta1_hist = []\n",
    "    cost_hist = []\n",
    "    vt = np.zeros((n+1,1))\n",
    "    x = np.column_stack((np.ones((m,1)), x))\n",
    "    y = y.reshape(m,1)\n",
    "    # print(x.shape)\n",
    "    # print(theta.shape)\n",
    "    c = 2\n",
    "    # print(moment)\n",
    "    for i in range(epoches):\n",
    "        # theta vector gradient section\n",
    "        # print(((x @ theta)-y).shape)\n",
    "        # grad_j_theta = (1/m) * (x.T @ ((x @ theta)-y))  #).reshape(n+1,1)\n",
    "        grad_j_theta = (1/m) * np.sum(((x @ theta)-y) * x, axis=0 ).reshape(n+1,1) \n",
    "        \n",
    "        cost = 1/(2*m) * np.sum(np.square((x @ theta) -y)) \n",
    "        vt = beta * vt + (1-beta)* (grad_j_theta **2)\n",
    "        theta = theta - (alpha/(np.sqrt(vt) + epsilon)) * grad_j_theta # update step\n",
    "        # print(moment)\n",
    "        # break\n",
    "        #adding the results of the epoch\n",
    "        if c == 1 or c == 0:\n",
    "            print(vt)\n",
    "        c += 1\n",
    "        theta_hist.append(theta)\n",
    "        # theta1_hist.append(theta[1][0])\n",
    "        cost_hist.append(cost)\n",
    "        if i > 1:\n",
    "            if abs(cost - cost_hist[-2]) < .0001:\n",
    "                print('cost')\n",
    "                print(cost_hist[-2])\n",
    "                print(cost)\n",
    "                print(i)\n",
    "                break\n",
    "            else:\n",
    "                try:\n",
    "                    if np.square(np.linalg.norm(grad_j_theta, ord= 2)) < 10:\n",
    "                        \n",
    "                        print('grad')\n",
    "                        print(i)\n",
    "                        break\n",
    "                    # else:\n",
    "                    #     print('##########')\n",
    "                    #     print('moment is: ',moment)\n",
    "                    #     print('cosst is:',cost)\n",
    "                    #     print('gradient is:',grad_j_theta)\n",
    "                except:\n",
    "                    # print('***************')\n",
    "                    # print('moment is: ',moment)\n",
    "                    # print('cosst is:',cost)\n",
    "                    # print('gradient is:',grad_j_theta)\n",
    "                    pass \n",
    "        \n",
    "    # return results to user\n",
    "    print('final cost is:',cost)\n",
    "    return theta_hist, cost_hist\n"
   ]
  },
  {
   "cell_type": "code",
   "execution_count": null,
   "metadata": {},
   "outputs": [],
   "source": [
    "def RMS(x,y,alpha , beta, epoches = 1000000):\n",
    "    \n",
    "    m = len(x)\n",
    "    y = y.reshape((len(y),1))\n",
    "    h_theta = lambda x,theta : x @ theta.reshape((2,1))\n",
    "    error_vector = lambda h , y : h-y\n",
    "    j_theta = lambda m, error : 1/(2*m) * np.square(np.linalg.norm(error, ord= 2))\n",
    "    \n",
    "    gradeient = lambda m, error, x: np.dot(x.T , error) * (1/m)\n",
    "    \n",
    "    x0 = np.ones(shape=(len(y),1))\n",
    "    x = np.c_[x0,x]\n",
    "\n",
    "    theta = []\n",
    "    cost = []\n",
    "    vt = []\n",
    "    temp = 0\n",
    "    \n",
    "    for i in range(epoches):\n",
    "        if i == 0:\n",
    "            theta_old = np.zeros((2,1)) \n",
    "            vtt = np.zeros((2,1))      \n",
    "        else:\n",
    "            theta_old = theta[-1]\n",
    "            vtt = vt[-1]                         ### No.1\n",
    "                                    \n",
    "       \n",
    "        h = h_theta(x,theta_old)               #### NO.2            \n",
    "#         if i > 2:\n",
    "#             print(h)\n",
    "#             return\n",
    "        error = error_vector(h,y) \n",
    "        j = j_theta(m,error)\n",
    "        grad = gradeient(m,error,x)   ### NO.3\n",
    "        \n",
    "#         print(vtt.shape, grad.shape)\n",
    "        vtt = beta * vtt + (1-beta)* (grad**2)    ### NO.4\n",
    "        \n",
    "        theta_new = theta_old - (alpha/np.sqrt(vtt)) * grad\n",
    "      \n",
    "        \n",
    "#         print('y',y.shape)\n",
    "#         print('h',h.shape)\n",
    "#         print('erro',error.shape)\n",
    "#         print('x',x.shape)\n",
    "#         print('grad',grad.shape)\n",
    "        \n",
    "        \n",
    "        cost.append(j)\n",
    "        theta.append(theta_new)\n",
    "        vt.append(vtt)\n",
    "        \n",
    "        if i > 1:\n",
    "            if abs(cost[-1] - cost[-2]) < .00000001:\n",
    "                print(i)\n",
    "                break\n",
    "            elif np.square(np.linalg.norm(grad,ord = 2)) < .000001:\n",
    "                print(i)\n",
    "                print(\"from grad condition\")\n",
    "                break\n",
    "#         if counter == 1:\n",
    "#             break\n",
    "        \n",
    "#         counter +=1\n",
    "        \n",
    "    return cost, theta\n",
    "\n",
    "\n",
    "\n",
    "a = -2\n",
    "b = 1\n",
    "x1 = np.linspace(0,20,50)\n",
    "np.random.shuffle(x1)\n",
    "y1 = -1* x1 + 2"
   ]
  }
 ],
 "metadata": {
  "interpreter": {
   "hash": "916dbcbb3f70747c44a77c7bcd40155683ae19c65e1c03b4aa3499c5328201f1"
  },
  "kernelspec": {
   "display_name": "Python 3.8.10 64-bit",
   "language": "python",
   "name": "python3"
  },
  "language_info": {
   "codemirror_mode": {
    "name": "ipython",
    "version": 3
   },
   "file_extension": ".py",
   "mimetype": "text/x-python",
   "name": "python",
   "nbconvert_exporter": "python",
   "pygments_lexer": "ipython3",
   "version": "3.8.10"
  },
  "orig_nbformat": 4
 },
 "nbformat": 4,
 "nbformat_minor": 2
}
