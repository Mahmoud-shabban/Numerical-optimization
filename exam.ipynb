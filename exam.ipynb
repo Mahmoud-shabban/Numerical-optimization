{
 "cells": [
  {
   "cell_type": "code",
   "execution_count": 3,
   "metadata": {},
   "outputs": [],
   "source": [
    "import numpy as np\n",
    "import pandas as pd\n",
    "import matplotlib.pyplot as plt \n",
    "import seaborn as sns\n",
    "%matplotlib inline"
   ]
  },
  {
   "cell_type": "markdown",
   "metadata": {},
   "source": [
    "## implementing ADAM algorithm"
   ]
  },
  {
   "cell_type": "code",
   "execution_count": 4,
   "metadata": {},
   "outputs": [],
   "source": [
    "## road map :\n",
    "# 1- implement all for single variable \n",
    "# 2- implemnt for multivariable\n"
   ]
  },
  {
   "cell_type": "code",
   "execution_count": 5,
   "metadata": {},
   "outputs": [],
   "source": [
    "x = np.arange(20).reshape(20,1)\n",
    "a = -1; b = 2\n",
    "y = a*x + b "
   ]
  },
  {
   "cell_type": "code",
   "execution_count": 6,
   "metadata": {},
   "outputs": [],
   "source": [
    "# 1- momentum based GD Batch and single variable if we want multi we get n of features and change the dimes to n,1\n",
    "def MBGD(x,y, alpha, gamma, epoches = 1000):\n",
    "    m = x.shape[0]\n",
    "    theta = np.array([0,0]).reshape(2,1)\n",
    "    theta0_hist = []\n",
    "    theta1_hist = []\n",
    "    cost_hist = []\n",
    "    moment = np.array([0,0]).reshape(2,1)\n",
    "    x = np.column_stack((np.ones_like(x), x))\n",
    "    c = 0\n",
    "    for i in range(epoches):\n",
    "        # theta vector gradient section\n",
    "        grad_j_theta = (1/m) * np.sum(((x @ theta)-y) * x, axis=0 ).reshape(2,1) \n",
    "        cost = (1/(2*m)) * np.sum(np.square((x @ theta) -y)) \n",
    "        moment = gamma * moment + alpha* grad_j_theta\n",
    "        theta = theta - moment # update step\n",
    "\n",
    "        # adding the results of the epoch\n",
    "        # if c == 1:\n",
    "        #     print(theta[1][0])\n",
    "        # c += 1\n",
    "        theta0_hist.append(theta[0][0])\n",
    "        theta1_hist.append(theta[1][0])\n",
    "        cost_hist.append(cost)\n",
    "        if i > 1:\n",
    "            if abs(cost - cost_hist[-2]) < .001:\n",
    "                \n",
    "                print(cost_hist[-2])\n",
    "                print(cost)\n",
    "                print(i)\n",
    "                break\n",
    "            elif grad_j_theta.T @ grad_j_theta < .1:\n",
    "                print('grad')\n",
    "                print(i)\n",
    "                break \n",
    "        \n",
    "    # return results to user\n",
    "    return theta0_hist, theta1_hist, cost_hist\n"
   ]
  },
  {
   "cell_type": "code",
   "execution_count": 7,
   "metadata": {},
   "outputs": [
    {
     "name": "stdout",
     "output_type": "stream",
     "text": [
      "0.5649128216311716\n",
      "0.5640303265567198\n",
      "34\n"
     ]
    }
   ],
   "source": [
    "t0, t1, j = MBGD(x,y,.001,.1)\n",
    "# t0"
   ]
  },
  {
   "cell_type": "code",
   "execution_count": 8,
   "metadata": {},
   "outputs": [
    {
     "data": {
      "text/plain": [
       "[0.5891660558054987,\n",
       " 0.5826436142771536,\n",
       " 0.5777385346379152,\n",
       " 0.5740280632484459,\n",
       " 0.5711999614029825,\n",
       " 0.5690236148531159,\n",
       " 0.567328695791588,\n",
       " 0.5659894029550792,\n",
       " 0.5649128216311716]"
      ]
     },
     "execution_count": 8,
     "metadata": {},
     "output_type": "execute_result"
    }
   ],
   "source": [
    "j[-10:-1]"
   ]
  },
  {
   "cell_type": "code",
   "execution_count": 9,
   "metadata": {},
   "outputs": [
    {
     "data": {
      "image/png": "[encoded data removed]",
      "text/plain": [
       "<Figure size 432x288 with 1 Axes>"
      ]
     },
     "metadata": {
      "needs_background": "light"
     },
     "output_type": "display_data"
    }
   ],
   "source": [
    "fig, ax = plt.subplots()\n",
    "ax.plot(t1, j, linestyle = 'none', marker = 'o')\n",
    "# ax2 = ax.twiny()\n",
    "# ax2.plot(t0, j, color = 'r', linestyle = 'none', marker= 'x')\n",
    "ax.set_xlabel('theta/epoches',color = 'g', fontdict={'size':15})\n",
    "ax.set_ylabel('cost j', color = 'g', fontdict={'size':15});"
   ]
  },
  {
   "cell_type": "code",
   "execution_count": 10,
   "metadata": {},
   "outputs": [
    {
     "data": {
      "image/png": "[encoded data removed]",
      "text/plain": [
       "<Figure size 432x288 with 1 Axes>"
      ]
     },
     "metadata": {
      "needs_background": "light"
     },
     "output_type": "display_data"
    }
   ],
   "source": [
    "fig, ax = plt.subplots()\n",
    "ax.plot(range(len(j)), j, linestyle = 'none', marker = 'o')\n",
    "ax.set_xlabel('theta/epoches',color = 'g', fontdict={'size':15})\n",
    "ax.set_ylabel('cost j', color = 'g', fontdict={'size':15});"
   ]
  },
  {
   "cell_type": "code",
   "execution_count": 11,
   "metadata": {},
   "outputs": [
    {
     "name": "stdout",
     "output_type": "stream",
     "text": [
      "0.5640303265567198\n"
     ]
    },
    {
     "data": {
      "image/png": "[encoded data removed]",
      "text/plain": [
       "<Figure size 432x288 with 1 Axes>"
      ]
     },
     "metadata": {
      "needs_background": "light"
     },
     "output_type": "display_data"
    }
   ],
   "source": [
    "plt.scatter(x,y)\n",
    "print(j[-1])"
   ]
  },
  {
   "cell_type": "code",
   "execution_count": 12,
   "metadata": {},
   "outputs": [
    {
     "data": {
      "text/plain": [
       "0.9661178206168866"
      ]
     },
     "execution_count": 12,
     "metadata": {},
     "output_type": "execute_result"
    }
   ],
   "source": [
    "from sklearn.metrics import r2_score\n",
    "model = lambda t0, t1,x : t0 + t1 * x\n",
    "y_pred = model(t0[-1], t1[-1], x)\n",
    "r2_score(y,y_pred)"
   ]
  },
  {
   "cell_type": "code",
   "execution_count": 13,
   "metadata": {},
   "outputs": [],
   "source": [
    "# 1- momentum based GD Batch and single variable if we want multi we get n of features and change the dimes to n,1\n",
    "def MBGD_multi(x,y, alpha = .001, gamma = .0001, epoches = 1000):\n",
    "    m = x.shape[0]\n",
    "    n = x.shape[1]\n",
    "    theta = np.zeros((n+1,1))\n",
    "    theta_hist = []\n",
    "    # theta1_hist = []\n",
    "    cost_hist = []\n",
    "    moment = np.zeros((n+1,1))\n",
    "    x = np.column_stack((np.ones((m,1)), x))\n",
    "    y = y.reshape(m,1)\n",
    "    # print(x.shape)\n",
    "    # print(theta.shape)\n",
    "    c = 2\n",
    "    # print(moment)\n",
    "    for i in range(epoches):\n",
    "        # theta vector gradient section\n",
    "        # print(((x @ theta)-y).shape)\n",
    "        # grad_j_theta = (1/m) * (x.T @ ((x @ theta)-y))  #).reshape(n+1,1)\n",
    "        grad_j_theta = (1/m) * np.sum(((x @ theta)-y) * x, axis=0 ).reshape(n+1,1) \n",
    "        \n",
    "        cost = 1/(2*m) * np.sum(np.square((x @ theta) -y)) \n",
    "        moment = gamma * moment + alpha* grad_j_theta\n",
    "        theta = theta - moment # update step\n",
    "        # print(moment)\n",
    "        # break\n",
    "        #adding the results of the epoch\n",
    "        if c == 1 or c == 0:\n",
    "            print(moment)\n",
    "        c += 1\n",
    "        theta_hist.append(theta)\n",
    "        # theta1_hist.append(theta[1][0])\n",
    "        cost_hist.append(cost)\n",
    "        if i > 1:\n",
    "            if abs(cost - cost_hist[-2]) < .0001:\n",
    "                print('cost')\n",
    "                print(cost_hist[-2])\n",
    "                print(cost)\n",
    "                print(i)\n",
    "                break\n",
    "            else:\n",
    "                try:\n",
    "                    if np.square(np.linalg.norm(grad_j_theta, ord= 2)) < 10:\n",
    "                        \n",
    "                        print('grad')\n",
    "                        print(i)\n",
    "                        break\n",
    "                    # else:\n",
    "                    #     print('##########')\n",
    "                    #     print('moment is: ',moment)\n",
    "                    #     print('cosst is:',cost)\n",
    "                    #     print('gradient is:',grad_j_theta)\n",
    "                except:\n",
    "                    # print('***************')\n",
    "                    # print('moment is: ',moment)\n",
    "                    # print('cosst is:',cost)\n",
    "                    # print('gradient is:',grad_j_theta)\n",
    "                    pass \n",
    "        \n",
    "    # return results to user\n",
    "    print('final cost is:',cost)\n",
    "    return theta_hist, cost_hist\n"
   ]
  },
  {
   "cell_type": "code",
   "execution_count": 14,
   "metadata": {},
   "outputs": [],
   "source": [
    "def train(x,y,func , alpha= .1, beta =.01, gamma= .01):\n",
    "    pass"
   ]
  },
  {
   "cell_type": "code",
   "execution_count": 211,
   "metadata": {},
   "outputs": [],
   "source": [
    "multival_data = np.genfromtxt('MultipleLR.csv',delimiter=',')\n",
    "x_multi =  multival_data[:,:-1]\n",
    "y_multi = multival_data[:,-1]"
   ]
  },
  {
   "cell_type": "code",
   "execution_count": 16,
   "metadata": {},
   "outputs": [
    {
     "name": "stdout",
     "output_type": "stream",
     "text": [
      "grad\n",
      "619\n",
      "final cost is: 3.350128203610418\n"
     ]
    }
   ],
   "source": [
    "t,j = MBGD_multi(x_multi,y_multi, alpha=.0001, gamma=.00001)"
   ]
  },
  {
   "cell_type": "code",
   "execution_count": 17,
   "metadata": {},
   "outputs": [],
   "source": [
    "t0 = [x[0] for x in t]\n",
    "t1 = [x[1] for x in t]\n",
    "t2 = [x[2] for x in t]\n",
    "t3 = [x[3] for x in t]"
   ]
  },
  {
   "cell_type": "code",
   "execution_count": 18,
   "metadata": {},
   "outputs": [
    {
     "data": {
      "image/png": "[encoded data removed]",
      "text/plain": [
       "<Figure size 432x288 with 1 Axes>"
      ]
     },
     "metadata": {
      "needs_background": "light"
     },
     "output_type": "display_data"
    }
   ],
   "source": [
    "fig, ax = plt.subplots()\n",
    "ax.plot(range(len(j)), j, linestyle = 'none', marker = 'o')\n",
    "ax.set_xlabel('theta/epoches',color = 'g', fontdict={'size':15})\n",
    "ax.set_ylabel('cost j', color = 'g', fontdict={'size':15});"
   ]
  },
  {
   "cell_type": "code",
   "execution_count": 19,
   "metadata": {},
   "outputs": [
    {
     "data": {
      "image/png": "[encoded data removed]",
      "text/plain": [
       "<Figure size 432x288 with 1 Axes>"
      ]
     },
     "metadata": {
      "needs_background": "light"
     },
     "output_type": "display_data"
    }
   ],
   "source": [
    "fig, ax = plt.subplots()\n",
    "ax.plot(t3, j, linestyle = 'none', marker = 'o')\n",
    "# ax2 = ax.twiny()\n",
    "# ax2.plot(t0, j, color = 'r', linestyle = 'none', marker= 'x')\n",
    "ax.set_xlabel('theta/epoches',color = 'g', fontdict={'size':15})\n",
    "ax.set_ylabel('cost j', color = 'g', fontdict={'size':15});"
   ]
  },
  {
   "cell_type": "code",
   "execution_count": 21,
   "metadata": {},
   "outputs": [
    {
     "data": {
      "text/plain": [
       "0.9879310307712268"
      ]
     },
     "execution_count": 21,
     "metadata": {},
     "output_type": "execute_result"
    }
   ],
   "source": [
    "x = np.column_stack((np.ones((25,1)), x_multi))\n",
    "model = lambda t,x : t0 + t1 * x\n",
    "y_pred = x @ t[-1]\n",
    "r2_score(y_multi,y_pred)"
   ]
  },
  {
   "cell_type": "code",
   "execution_count": 136,
   "metadata": {},
   "outputs": [],
   "source": [
    "# 1- RMS prop GD Batch and single variable if we want multi we get n of features and change the dimes to n,1\n",
    "def RMS(x,y, alpha = .001, beta = .01, epsilon = .00000000000000000000001, epoches = 1000):\n",
    "    m = x.shape[0]\n",
    "    n = x.shape[1]\n",
    "    theta = np.zeros((n+1,1))\n",
    "    theta_hist = []\n",
    "    # theta1_hist = []\n",
    "    cost_hist = []\n",
    "    vt = np.zeros((n+1,1))\n",
    "    x = np.column_stack((np.ones((m,1)), x))\n",
    "    y = y.reshape(m,1)\n",
    "    # print(x.shape)\n",
    "    # print(theta.shape)\n",
    "    c = 2\n",
    "    # print(moment)\n",
    "    for i in range(epoches):\n",
    "        # theta vector gradient section\n",
    "        # print(((x @ theta)-y).shape)\n",
    "        # grad_j_theta = (1/m) * (x.T @ ((x @ theta)-y))  #).reshape(n+1,1)\n",
    "        grad_j_theta = (1/m) * np.sum(((x @ theta)-y) * x, axis=0 ).reshape(n+1,1) \n",
    "        \n",
    "        cost = 1/(2*m) * np.sum(np.square((x @ theta) -y)) \n",
    "        vt = beta * vt + (1-beta)* (grad_j_theta **2)\n",
    "        theta = theta - (alpha/(np.sqrt(vt) + epsilon)) * grad_j_theta # update step\n",
    "        # print(moment)\n",
    "        # break\n",
    "        #adding the results of the epoch\n",
    "        if c == 1 or c == 0:\n",
    "            print(vt)\n",
    "        c += 1\n",
    "        theta_hist.append(theta)\n",
    "        # theta1_hist.append(theta[1][0])\n",
    "        cost_hist.append(cost)\n",
    "        if i > 1:\n",
    "            if abs(cost - cost_hist[-2]) < .001:\n",
    "                print('cost')\n",
    "                print(cost_hist[-2])\n",
    "                print(cost)\n",
    "                print(i)\n",
    "                break\n",
    "            else:\n",
    "                try:\n",
    "                    if np.square(np.linalg.norm(grad_j_theta, ord= 2)) < 5:\n",
    "                        \n",
    "                        print('grad')\n",
    "                        print(i)\n",
    "                        break\n",
    "                    # else:\n",
    "                    #     print('##########')\n",
    "                    #     print('moment is: ',moment)\n",
    "                    #     print('cosst is:',cost)\n",
    "                    #     print('gradient is:',grad_j_theta)\n",
    "                except:\n",
    "                    # print('***************')\n",
    "                    # print('moment is: ',moment)\n",
    "                    # print('cosst is:',cost)\n",
    "                    # print('gradient is:',grad_j_theta)\n",
    "                    pass \n",
    "        \n",
    "    # return results to user\n",
    "    print('final cost is:',cost)\n",
    "    return theta_hist, cost_hist\n"
   ]
  },
  {
   "cell_type": "code",
   "execution_count": 151,
   "metadata": {},
   "outputs": [
    {
     "data": {
      "text/plain": [
       "array([0.35593822, 0.54251876, 1.16744422])"
      ]
     },
     "execution_count": 151,
     "metadata": {},
     "output_type": "execute_result"
    }
   ],
   "source": [
    "from sklearn.linear_model import LinearRegression as lr \n",
    "model = lr()\n",
    "model.fit(x_multi, y_multi)\n",
    "model.coef_"
   ]
  },
  {
   "cell_type": "code",
   "execution_count": 152,
   "metadata": {},
   "outputs": [
    {
     "data": {
      "text/plain": [
       "-4.3361024012403675"
      ]
     },
     "execution_count": 152,
     "metadata": {},
     "output_type": "execute_result"
    }
   ],
   "source": [
    "model.intercept_\n",
    "# model.score(x_multi, y_multi)"
   ]
  },
  {
   "cell_type": "code",
   "execution_count": 155,
   "metadata": {},
   "outputs": [
    {
     "data": {
      "text/plain": [
       "array([0.70774798])"
      ]
     },
     "execution_count": 155,
     "metadata": {},
     "output_type": "execute_result"
    }
   ],
   "source": [
    "t3[-1]"
   ]
  },
  {
   "cell_type": "code",
   "execution_count": 148,
   "metadata": {},
   "outputs": [
    {
     "name": "stdout",
     "output_type": "stream",
     "text": [
      "cost\n",
      "5.714408944334271\n",
      "5.7151346001381365\n",
      "114\n",
      "final cost is: 5.7151346001381365\n"
     ]
    }
   ],
   "source": [
    "t,j = RMS(x_multi,y_multi, alpha=.00915, beta = .76 , epoches= 10000)\n",
    "t0 = [x[0] for x in t]\n",
    "t1 = [x[1] for x in t]\n",
    "t2 = [x[2] for x in t]\n",
    "t3 = [x[3] for x in t]\n"
   ]
  },
  {
   "cell_type": "code",
   "execution_count": 138,
   "metadata": {},
   "outputs": [
    {
     "data": {
      "image/png": "[encoded data removed]",
      "text/plain": [
       "<Figure size 432x288 with 1 Axes>"
      ]
     },
     "metadata": {
      "needs_background": "light"
     },
     "output_type": "display_data"
    }
   ],
   "source": [
    "fig, ax = plt.subplots()\n",
    "ax.plot(range(len(j)), j, linestyle = 'none', marker = 'o')\n",
    "ax.set_xlabel('theta/epoches',color = 'g', fontdict={'size':15})\n",
    "ax.set_ylabel('cost j', color = 'g', fontdict={'size':15})\n",
    "ax.set_title('Epoches vs cost',color = 'g', fontdict={'size':15});"
   ]
  },
  {
   "cell_type": "code",
   "execution_count": 141,
   "metadata": {},
   "outputs": [
    {
     "data": {
      "image/png": "[encoded data removed]",
      "text/plain": [
       "<Figure size 432x288 with 1 Axes>"
      ]
     },
     "metadata": {
      "needs_background": "light"
     },
     "output_type": "display_data"
    }
   ],
   "source": [
    "fig, ax = plt.subplots()\n",
    "ax.plot(t3, j, linestyle = 'none', marker = 'o')\n",
    "# ax2 = ax.twiny()\n",
    "# ax2.plot(t0, j, color = 'r', linestyle = 'none', marker= 'x')\n",
    "ax.set_xlabel('theta/epoches',color = 'g', fontdict={'size':15})\n",
    "ax.set_ylabel('cost j', color = 'g', fontdict={'size':15});"
   ]
  },
  {
   "cell_type": "code",
   "execution_count": 156,
   "metadata": {},
   "outputs": [
    {
     "data": {
      "text/plain": [
       "0.9791534486801021"
      ]
     },
     "execution_count": 156,
     "metadata": {},
     "output_type": "execute_result"
    }
   ],
   "source": [
    "x = np.column_stack((np.ones((25,1)), x_multi))\n",
    "model = lambda t,x : t0 + t1 * x\n",
    "y_pred = x @ t[-1]\n",
    "r2_score(y_multi,y_pred)"
   ]
  },
  {
   "cell_type": "code",
   "execution_count": 166,
   "metadata": {},
   "outputs": [
    {
     "data": {
      "text/plain": [
       "4"
      ]
     },
     "execution_count": 166,
     "metadata": {},
     "output_type": "execute_result"
    }
   ],
   "source": [
    "s = [2,3,4,2]\n",
    "s[3:4]\n",
    "25//6"
   ]
  },
  {
   "cell_type": "markdown",
   "metadata": {},
   "source": [
    "## Adam start"
   ]
  },
  {
   "cell_type": "code",
   "execution_count": 208,
   "metadata": {},
   "outputs": [],
   "source": [
    "# 1- momentum based GD Batch and single variable if we want multi we get n of features and change the dimes to n,1\n",
    "def ADAM_mini_batch(x,y, alpha = .001, beta = .01,batch_size = 5, epsilon = .00000000000000000000001, epoches = 1000):\n",
    "    m = x.shape[0]\n",
    "    n = x.shape[1]\n",
    "    theta = np.zeros((n+1,1))\n",
    "    theta_hist = []\n",
    "    # theta1_hist = []\n",
    "    cost_hist = []\n",
    "    vt = np.zeros((n+1,1))\n",
    "    mt = np.zeros((n+1,1))\n",
    "    x = np.column_stack((np.ones((m,1)), x))\n",
    "    y = y.reshape(m,1)\n",
    "    # print(x.shape)\n",
    "    # print(theta.shape)\n",
    "    c = 2\n",
    "    # print(moment)\n",
    "    for i in range(epoches):\n",
    "        for p in range(m // batch_size + 1):\n",
    "        # theta vector gradient section\n",
    "        # print(((x @ theta)-y).shape)\n",
    "        # grad_j_theta = (1/m) * (x.T @ ((x @ theta)-y))  #).reshape(n+1,1)\n",
    "            x_batch = x[p * batch_size :(p* batch_size) + batch_size , :]\n",
    "            y_batch = y[p * batch_size :(p* batch_size) + batch_size]\n",
    "            grad_j_theta = (1/m) * np.sum(((x_batch @ theta)-y_batch) * x_batch, axis=0 ).reshape(n+1,1) \n",
    "            \n",
    "            # cost = 1/(2*batch_size) * np.sum(np.square((x_batch @ theta) -y_batch)) \n",
    "\n",
    "            mt = mt * beta + (1-beta) * grad_j_theta\n",
    "#         print(vtt.shape, grad.shape)\n",
    "            vt = beta * vt + (1-beta)* (grad_j_theta**2)    ### NO.4\n",
    "        \n",
    "            theta = theta - (alpha/(np.sqrt(vt) + epsilon)) * mt\n",
    "\n",
    "\n",
    "\n",
    "            # theta = theta - (alpha/(np.sqrt(vt) + epsilon)) * grad_j_theta # update step for rms prop\n",
    "            # print(moment)\n",
    "            # break\n",
    "            #adding the results of the epoch\n",
    "            if c == 1 or c == 0:\n",
    "                print(vt)\n",
    "            c += 1\n",
    "        cost = 1/(2*m) * np.sum(np.square((x @ theta) - y)) # calculating cost on the whole batch\n",
    "        theta_hist.append(theta) # appending the last theta in the epoches\n",
    "        # theta1_hist.append(theta[1][0])\n",
    "        cost_hist.append(cost)\n",
    "        if i > 1:\n",
    "            if abs(cost - cost_hist[-2]) < .0001:\n",
    "                print('cost')\n",
    "                print(cost_hist[-2])\n",
    "                print(cost)\n",
    "                print(i)\n",
    "                break\n",
    "            else:\n",
    "                try:\n",
    "                    if np.square(np.linalg.norm(grad_j_theta, ord= 2)) < 2:\n",
    "                        \n",
    "                        print('grad')\n",
    "                        print(i)\n",
    "                        break\n",
    "                    # else:\n",
    "                    #     print('##########')\n",
    "                    #     print('moment is: ',moment)\n",
    "                    #     print('cosst is:',cost)\n",
    "                    #     print('gradient is:',grad_j_theta)\n",
    "                except:\n",
    "                    # print('***************')\n",
    "                    # print('moment is: ',moment)\n",
    "                    # print('cosst is:',cost)\n",
    "                    # print('gradient is:',grad_j_theta)\n",
    "                    pass \n",
    "            \n",
    "    # return results to user\n",
    "    print('final cost is:',cost)\n",
    "    print('final gad is:',np.linalg.norm(grad_j_theta, ord= 2))\n",
    "    return theta_hist, cost_hist\n"
   ]
  },
  {
   "cell_type": "code",
   "execution_count": 220,
   "metadata": {},
   "outputs": [
    {
     "name": "stdout",
     "output_type": "stream",
     "text": [
      "grad\n",
      "2\n",
      "final cost is: 52.866602788151596\n",
      "final gad is: 0.0\n"
     ]
    }
   ],
   "source": [
    "t,j = ADAM_mini_batch(x_multi,y_multi, alpha=.0915, beta = .006 , epoches= 10000)\n",
    "t0 = [x[0] for x in t]\n",
    "t1 = [x[1] for x in t]\n",
    "t2 = [x[2] for x in t]\n",
    "t3 = [x[3] for x in t]"
   ]
  },
  {
   "cell_type": "code",
   "execution_count": 213,
   "metadata": {},
   "outputs": [
    {
     "data": {
      "image/png": "[encoded data removed]",
      "text/plain": [
       "<Figure size 432x288 with 1 Axes>"
      ]
     },
     "metadata": {
      "needs_background": "light"
     },
     "output_type": "display_data"
    }
   ],
   "source": [
    "fig, ax = plt.subplots()\n",
    "ax.plot(range(len(j)), j, linestyle = 'none', marker = 'o')\n",
    "ax.set_xlabel('theta/epoches',color = 'g', fontdict={'size':15})\n",
    "ax.set_ylabel('cost j', color = 'g', fontdict={'size':15})\n",
    "ax.set_title('Epoches vs cost',color = 'g', fontdict={'size':15});"
   ]
  },
  {
   "cell_type": "code",
   "execution_count": 216,
   "metadata": {},
   "outputs": [
    {
     "data": {
      "image/png": "[encoded data removed]",
      "text/plain": [
       "<Figure size 432x288 with 1 Axes>"
      ]
     },
     "metadata": {
      "needs_background": "light"
     },
     "output_type": "display_data"
    }
   ],
   "source": [
    "fig, ax = plt.subplots()\n",
    "ax.plot(t2, j, linestyle = 'none', marker = 'o')\n",
    "# ax2 = ax.twiny()\n",
    "# ax2.plot(t0, j, color = 'r', linestyle = 'none', marker= 'x')\n",
    "ax.set_xlabel('theta/epoches',color = 'g', fontdict={'size':15})\n",
    "ax.set_ylabel('cost j', color = 'g', fontdict={'size':15});"
   ]
  },
  {
   "cell_type": "code",
   "execution_count": null,
   "metadata": {},
   "outputs": [],
   "source": [
    "x = np.column_stack((np.ones((25,1)), x_multi))\n",
    "model = lambda t,x : t0 + t1 * x\n",
    "y_pred = x @ t[-1]\n",
    "r2_score(y_multi,y_pred)"
   ]
  },
  {
   "cell_type": "code",
   "execution_count": null,
   "metadata": {},
   "outputs": [],
   "source": []
  },
  {
   "cell_type": "markdown",
   "metadata": {},
   "source": [
    "## End of working on ADAM new"
   ]
  },
  {
   "cell_type": "code",
   "execution_count": null,
   "metadata": {},
   "outputs": [],
   "source": []
  },
  {
   "cell_type": "code",
   "execution_count": null,
   "metadata": {},
   "outputs": [],
   "source": []
  },
  {
   "cell_type": "code",
   "execution_count": null,
   "metadata": {},
   "outputs": [],
   "source": []
  },
  {
   "cell_type": "code",
   "execution_count": null,
   "metadata": {},
   "outputs": [],
   "source": []
  },
  {
   "cell_type": "code",
   "execution_count": null,
   "metadata": {},
   "outputs": [],
   "source": []
  },
  {
   "cell_type": "code",
   "execution_count": null,
   "metadata": {},
   "outputs": [],
   "source": [
    "def RMS(x,y,alpha , beta, epoches = 1000000):\n",
    "    \n",
    "    m = len(x)\n",
    "    y = y.reshape((len(y),1))\n",
    "    h_theta = lambda x,theta : x @ theta.reshape((2,1))\n",
    "    error_vector = lambda h , y : h-y\n",
    "    j_theta = lambda m, error : 1/(2*m) * np.square(np.linalg.norm(error, ord= 2))\n",
    "    \n",
    "    gradeient = lambda m, error, x: np.dot(x.T , error) * (1/m)\n",
    "    \n",
    "    x0 = np.ones(shape=(len(y),1))\n",
    "    x = np.c_[x0,x]\n",
    "\n",
    "    theta = []\n",
    "    cost = []\n",
    "    vt = []\n",
    "    temp = 0\n",
    "    \n",
    "    for i in range(epoches):\n",
    "        if i == 0:\n",
    "            theta_old = np.zeros((2,1)) \n",
    "            vtt = np.zeros((2,1))      \n",
    "        else:\n",
    "            theta_old = theta[-1]\n",
    "            vtt = vt[-1]                         ### No.1\n",
    "                                    \n",
    "       \n",
    "        h = h_theta(x,theta_old)               #### NO.2            \n",
    "#         if i > 2:\n",
    "#             print(h)\n",
    "#             return\n",
    "        error = error_vector(h,y) \n",
    "        j = j_theta(m,error)\n",
    "        grad = gradeient(m,error,x)   ### NO.3\n",
    "        \n",
    "#         print(vtt.shape, grad.shape)\n",
    "        vtt = beta * vtt + (1-beta)* (grad**2)    ### NO.4\n",
    "        \n",
    "        theta_new = theta_old - (alpha/np.sqrt(vtt)) * grad\n",
    "      \n",
    "        \n",
    "#         print('y',y.shape)\n",
    "#         print('h',h.shape)\n",
    "#         print('erro',error.shape)\n",
    "#         print('x',x.shape)\n",
    "#         print('grad',grad.shape)\n",
    "        \n",
    "        \n",
    "        cost.append(j)\n",
    "        theta.append(theta_new)\n",
    "        vt.append(vtt)\n",
    "        \n",
    "        if i > 1:\n",
    "            if abs(cost[-1] - cost[-2]) < .00000001:\n",
    "                print(i)\n",
    "                break\n",
    "            elif np.square(np.linalg.norm(grad,ord = 2)) < .000001:\n",
    "                print(i)\n",
    "                print(\"from grad condition\")\n",
    "                break\n",
    "#         if counter == 1:\n",
    "#             break\n",
    "        \n",
    "#         counter +=1\n",
    "        \n",
    "    return cost, theta\n",
    "\n",
    "\n",
    "\n",
    "a = -2\n",
    "b = 1\n",
    "x1 = np.linspace(0,20,50)\n",
    "np.random.shuffle(x1)\n",
    "y1 = -1* x1 + 2"
   ]
  },
  {
   "cell_type": "code",
   "execution_count": 167,
   "metadata": {},
   "outputs": [],
   "source": [
    "def ADAM(x,y,alpha , beta, epoches = 1000000):\n",
    "    \n",
    "    m = len(x)\n",
    "    y = y.reshape((len(y),1))\n",
    "    h_theta = lambda x,theta : x @ theta.reshape((2,1))\n",
    "    error_vector = lambda h , y : h-y\n",
    "    j_theta = lambda m, error : 1/(2*m) * np.square(np.linalg.norm(error, ord= 2))\n",
    "    \n",
    "    gradeient = lambda m, error, x: np.dot(x.T , error) * (1/m)\n",
    "    \n",
    "    x0 = np.ones(shape=(len(y),1))\n",
    "    x = np.c_[x0,x]\n",
    "\n",
    "    theta = []\n",
    "    cost = []\n",
    "    vt = []\n",
    "    mt = np.zeros((2,1))\n",
    "    \n",
    "    for i in range(epoches):\n",
    "        if i == 0:\n",
    "            theta_old = np.zeros((2,1)) \n",
    "            vtt = np.zeros((2,1))      \n",
    "        else:\n",
    "            theta_old = theta[-1]\n",
    "            vtt = vt[-1]                         ### No.1\n",
    "                                    \n",
    "       \n",
    "        h = h_theta(x,theta_old)               #### NO.2            \n",
    "#         if i > 2:\n",
    "#             print(h)\n",
    "#             return\n",
    "        error = error_vector(h,y) \n",
    "        j = j_theta(m,error)\n",
    "        grad = gradeient(m,error,x)   ### NO.3\n",
    "        \n",
    "        mt = mt * beta + (1-beta) * grad\n",
    "        \n",
    "        \n",
    "#         print(vtt.shape, grad.shape)\n",
    "        vtt = beta * vtt + (1-beta)* (grad**2)    ### NO.4\n",
    "        \n",
    "        theta_new = theta_old - (alpha/np.sqrt(vtt)) * mt\n",
    "      \n",
    "        \n",
    "#         print('y',y.shape)\n",
    "#         print('h',h.shape)\n",
    "#         print('erro',error.shape)\n",
    "#         print('x',x.shape)\n",
    "#         print('grad',grad.shape)\n",
    "        \n",
    "        \n",
    "        cost.append(j)\n",
    "        theta.append(theta_new)\n",
    "        vt.append(vtt)\n",
    "        \n",
    "        if i > 1:\n",
    "            if abs(cost[-1] - cost[-2]) < .00000001:\n",
    "                print(i)\n",
    "                break\n",
    "            elif np.square(np.linalg.norm(grad,ord = 2)) < .000001:\n",
    "                print(i)\n",
    "                print(\"from grad condition\")\n",
    "                break\n",
    "#         if counter == 1:\n",
    "#             break\n",
    "        \n",
    "#         counter +=1\n",
    "        \n",
    "    return cost, theta\n",
    "\n",
    "\n",
    "\n",
    "a = -2\n",
    "b = 1\n",
    "x1 = np.linspace(0,20,50)\n",
    "np.random.shuffle(x1)\n",
    "y1 = -1* x1 + 2"
   ]
  },
  {
   "cell_type": "code",
   "execution_count": null,
   "metadata": {},
   "outputs": [],
   "source": [
    "############## single variable minibatch Gradient ########################\n",
    "def miniBatchGradient(x,y,alpha, epochs = 1000, batch_size = 5):\n",
    "    theta0 = []\n",
    "    theta1 = []\n",
    "    j = []\n",
    "    n_epochs = []\n",
    "    \n",
    "    m = len(x)\n",
    "    h_theta = lambda theta0, theta1, x: theta0 + theta1 * x\n",
    "    j_theta = lambda b,y_hat,y: 1/(2*b) * sum((y_hat - y)**2)\n",
    "    grad_theta0 = lambda b, y_hat, y: 1/b * sum(y_hat - y)\n",
    "    grad_theta1 = lambda b, y_hat, y, x: 1/b * sum((y_hat - y) * x)\n",
    "\n",
    "    for i in range(epochs):\n",
    "        for l in range(m // batch_size + 1):\n",
    "            if i == 0:\n",
    "                theta1_old = 0\n",
    "                theta0_old = 0\n",
    "            else:\n",
    "                theta1_old = theta1[-1]\n",
    "                theta0_old = theta0[-1]\n",
    "\n",
    "            h = h_theta(theta0_old,theta1_old, x[l*batch_size:(l*batch_size)+batch_size])\n",
    "            cost = j_theta(batch_size,h,y[l*batch_size:(l*batch_size)+batch_size])\n",
    "\n",
    "            grad0 = grad_theta0(batch_size, h, y[l*batch_size:(l*batch_size)+batch_size])\n",
    "            grad1 = grad_theta1(batch_size,h,y[l*batch_size:(l*batch_size)+batch_size],x[l*batch_size:(l*batch_size)+batch_size])\n",
    "\n",
    "            theta1_new = theta1_old - alpha * grad1\n",
    "            theta0_new = theta0_old - alpha * grad0\n",
    "            \n",
    "            \n",
    "            theta0.append(theta0_new)\n",
    "            theta1.append(theta1_new)        \n",
    "            j.append(cost)\n",
    "            #n_epochs.append(l)\n",
    "    \n",
    "        #stop condition  \n",
    "        if i >1:\n",
    "\n",
    "            if np.abs(j[-1] - j[-i*batch_size]) < .0001:\n",
    "                print('hi..1')\n",
    "                print(i)\n",
    "                break\n",
    "            elif np.abs(np.sqrt(theta0_new**2 + theta1_new **2 ) - np.sqrt(theta0_old** 2 + theta1_old **2)) < .0001:\n",
    "                print('hi..2')\n",
    "                print(i)\n",
    "                break\n",
    "                    \n",
    "\n",
    "    return theta0, theta1 , j, n_epochs\n",
    "\n",
    "\n",
    "    "
   ]
  }
 ],
 "metadata": {
  "interpreter": {
   "hash": "916dbcbb3f70747c44a77c7bcd40155683ae19c65e1c03b4aa3499c5328201f1"
  },
  "kernelspec": {
   "display_name": "Python 3.8.10 64-bit",
   "language": "python",
   "name": "python3"
  },
  "language_info": {
   "codemirror_mode": {
    "name": "ipython",
    "version": 3
   },
   "file_extension": ".py",
   "mimetype": "text/x-python",
   "name": "python",
   "nbconvert_exporter": "python",
   "pygments_lexer": "ipython3",
   "version": "3.8.10"
  },
  "orig_nbformat": 4
 },
 "nbformat": 4,
 "nbformat_minor": 2
}
