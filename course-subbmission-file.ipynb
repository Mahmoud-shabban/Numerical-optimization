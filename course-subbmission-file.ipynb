{
 "cells": [
  {
   "cell_type": "code",
   "execution_count": 2,
   "metadata": {},
   "outputs": [],
   "source": [
    "import numpy as np"
   ]
  },
  {
   "cell_type": "code",
   "execution_count": 29,
   "metadata": {},
   "outputs": [],
   "source": [
    "def power_method(mat):\n",
    "    '''\n",
    "    Implementing power method to find eigen vector of largest eigen vector(corresponding to largest eigen value)\n",
    "    of transformation matrix\n",
    "    params:\n",
    "        mat: ndarray of shape (n,n) the transformation matrix\n",
    "    returns:\n",
    "        vect: eigen vecotr corresponding to largest eigen value\n",
    "        val : (max(vect)) largest eign value\n",
    "    '''\n",
    "    # 1- initialize the vect with let's say [1,1] (of the n dims) \n",
    "    # 2- repeate:\n",
    "    #   a- normalize vect with inf norm\n",
    "    #   b- matrix multiplication of the vect and mat (mat @ vect = lambda vect)\n",
    "    #   c- until vect_new is close to vect old\n",
    "    # 3- the larges eigen value is the largest component in vect (this is the result of noumalization step we did) \n",
    "    vect = np.ones((mat.shape[0], 1), dtype= np.float32)\n",
    "    vect_old = vect.copy()\n",
    "    for i in range(1000):\n",
    "        vect = vect / np.linalg.norm(vect, ord= np.inf)\n",
    "        vect = mat @ vect\n",
    "        if np.allclose(vect, vect_old):\n",
    "            print('n iterations: ',i) # I can remove this (this only to show how long did it take to reach target)\n",
    "            break\n",
    "        else:\n",
    "            vect_old = vect.copy()\n",
    "\n",
    "    return vect , max(vect)\n"
   ]
  },
  {
   "cell_type": "code",
   "execution_count": 4,
   "metadata": {},
   "outputs": [
    {
     "name": "stdout",
     "output_type": "stream",
     "text": [
      "[[0.1 0.3 0.4]\n",
      " [0.8 0.6 0.3]\n",
      " [0.1 0.1 0.3]]\n",
      "[[ 1 13  4]\n",
      " [ 8  5  9]\n",
      " [ 7 11  3]]\n"
     ]
    }
   ],
   "source": [
    "# matrix to test the power method algorithm (use numpy to verify the solution)\n",
    "temp = np.array([\\\n",
    "    [.1,.3,.4],\n",
    "    [.8,.6,.3],\n",
    "    [.1,.1,.3]\n",
    "    ])\n",
    "temp2 = np.array([\\\n",
    "    [1,13,4],\n",
    "    [8,5,9],\n",
    "    [7,11,3]\n",
    "    ])\n",
    "print(temp)\n",
    "print(temp2)"
   ]
  },
  {
   "cell_type": "code",
   "execution_count": 27,
   "metadata": {},
   "outputs": [],
   "source": [
    "# assignment propelm one\n",
    "mat1 = np.array([[0,2],[2,3]])\n",
    "mat2 = np.array([\\\n",
    "    [-4, 14, 0],\n",
    "    [-5, 13, 0],\n",
    "    [-1, 0, 2]\n",
    "    ])\n",
    "page_rank_mat =  np.array([\\\n",
    "    [0, .5, 0,  0,  0],\n",
    "    [0,  0, 0,  0, 1/3],\n",
    "    [1, .5, 0, .5, 1/3],\n",
    "    [0,  0, 1,  0, 1/3],\n",
    "    [0,  0, 0, .5,  0],\n",
    "    ])"
   ]
  },
  {
   "cell_type": "code",
   "execution_count": 34,
   "metadata": {},
   "outputs": [
    {
     "name": "stdout",
     "output_type": "stream",
     "text": [
      "n iterations:  9\n",
      "problem 1 mat1 eigvect is:  [[2.        ]\n",
      " [3.99999682]]\n",
      "problem 1 mat1  eigval is:  [3.99999682]\n",
      "\n",
      "n iterations:  16\n",
      "problem 1 mat2 eigvect is:  [[ 6.00002616]\n",
      " [ 4.28573858]\n",
      " [-1.49998692]]\n",
      "problem 1 mat2 eigval is:  [6.00002616]\n",
      "\n",
      "n iterations:  27\n",
      "problem 2 page rank vector is:  [[0.08333344]\n",
      " [0.1666672 ]\n",
      " [0.83333391]\n",
      " [1.00000315]\n",
      " [0.5       ]]\n"
     ]
    }
   ],
   "source": [
    "mat1vect, mat1val = power_method(mat1)\n",
    "print('problem 1 mat1 eigvect is: ',mat1vect)\n",
    "print('problem 1 mat1  eigval is: ',mat1val)\n",
    "print()\n",
    "mat2vect, mat2val = power_method(mat2)\n",
    "print('problem 1 mat2 eigvect is: ',mat2vect)\n",
    "print('problem 1 mat2 eigval is: ',mat2val)\n",
    "print()\n",
    "rankvect, rankval = power_method(page_rank_mat)\n",
    "print('problem 2 page rank vector is: ',rankvect)\n",
    "# print('problem 2 mat2 eigval is: ',rankval)"
   ]
  },
  {
   "cell_type": "code",
   "execution_count": null,
   "metadata": {},
   "outputs": [],
   "source": []
  }
 ],
 "metadata": {
  "interpreter": {
   "hash": "916dbcbb3f70747c44a77c7bcd40155683ae19c65e1c03b4aa3499c5328201f1"
  },
  "kernelspec": {
   "display_name": "Python 3.8.10 64-bit",
   "language": "python",
   "name": "python3"
  },
  "language_info": {
   "codemirror_mode": {
    "name": "ipython",
    "version": 3
   },
   "file_extension": ".py",
   "mimetype": "text/x-python",
   "name": "python",
   "nbconvert_exporter": "python",
   "pygments_lexer": "ipython3",
   "version": "3.8.10"
  },
  "orig_nbformat": 4
 },
 "nbformat": 4,
 "nbformat_minor": 2
}
