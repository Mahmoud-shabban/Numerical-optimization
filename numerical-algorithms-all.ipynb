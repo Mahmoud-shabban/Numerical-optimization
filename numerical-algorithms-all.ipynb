{
 "cells": [
  {
   "cell_type": "code",
   "execution_count": 12,
   "id": "b453f913",
   "metadata": {},
   "outputs": [],
   "source": [
    "import numpy as np\n",
    "import scipy\n",
    "import scipy.linalg \n",
    "import matplotlib.pyplot as plt \n",
    "\n",
    "%matplotlib inline"
   ]
  },
  {
   "cell_type": "markdown",
   "id": "135c4e4a",
   "metadata": {},
   "source": [
    "***** LU decomposition <br>\n",
    "2x + 5y = 21 <br>\n",
    "x + 2y = 8 <br>\n",
    "*******\n",
    "x1 + x2 + x3 = 1 <br>\n",
    "4x1 + 3x2 - x3 = 6 <br>\n",
    "3x1 + 5x2 + 3x3 = 4 <br>\n",
    "\n",
    "***** jacobi and gauess sidel part <br>\n",
    "5x1 -2x2 + 3x3 = -1 <br>\n",
    "-3x1 + 9x2 + x3 = 2 <br>\n",
    "2x1 -x2 -7x3 = 3 <br>"
   ]
  },
  {
   "cell_type": "markdown",
   "id": "6e3e2cb9",
   "metadata": {},
   "source": [
    "### LU Decomposition"
   ]
  },
  {
   "cell_type": "code",
   "execution_count": 2,
   "id": "b1b0b0dc",
   "metadata": {},
   "outputs": [],
   "source": [
    "####### implementing LU Decomposition to solve system of linear equations\n",
    "\n",
    "def reduce_row(mat, pivot, mode = 'ref'):\n",
    "    '''\n",
    "    perfroms row reduction to matrix mat and put it in the ref format or in rref format\n",
    "    \n",
    "    parameter:\n",
    "        mat : square matrix shape (n,n) dtype = float\n",
    "        pivot: list [pivot row, pivot column\n",
    "        mode: str ('ref','rref', 'full_reduction' ) defalut 'ref' \n",
    "              it determines wheter to reduce the matrix to ref format or rref according to certain pivot element\n",
    "              if 'full_reduction' it will return a all the matrix in the in rref  \n",
    "    returns:\n",
    "        it does its work in place\n",
    "    '''\n",
    "    pivot_row = pivot[0]\n",
    "    pivot_col = pivot[1]\n",
    "    factors = np.eye(mat.shape[0])\n",
    "    \n",
    "    # to overcome if the pivot elemnt is 0 swap with another row \n",
    "    if mode != 'full_reduction' and pivot_row < mat.shape[0]-1:\n",
    "\n",
    "        swap_row_idx = -1\n",
    "        while mat[pivot_row, pivot_col] == 0:\n",
    "            mat[pivot_row],mat[swap_row_idx] = mat[swap_row_idx] , mat[pivot_row]\n",
    "            swap_row_idx -= 1\n",
    "\n",
    "    \n",
    "    if mode == 'ref':  \n",
    "\n",
    "        for i in range(pivot_row + 1,mat.shape[0]):\n",
    "            factor = (mat[i,pivot_col] / mat[pivot_row, pivot_col])\n",
    "            mat[i,:] = mat[i] - factor * mat[pivot_row]\n",
    "            factors[i,pivot_col] = factor\n",
    "\n",
    "        return factors[:,pivot_col]\n",
    "    \n",
    "    elif mode == 'rref':\n",
    "\n",
    "        mat[pivot_row] = mat[pivot_row] / mat[pivot_row, pivot_col]\n",
    "        for i in range(pivot_row + 1,mat.shape[0]):\n",
    "            factor = (mat[i,pivot_col] / mat[pivot_row, pivot_col])\n",
    "            mat[i] = mat[i] - (factor *mat[pivot_row])\n",
    "           \n",
    "            factors[i,pivot_col] = factor\n",
    "        \n",
    "        # reducing elements above the pivot\n",
    "        for j in range(pivot_row):\n",
    "            f = mat[j, pivot_col] / mat[pivot_row, pivot_col]  \n",
    "            mat[j] = mat[j] - (f * mat[pivot_row]) \n",
    "        \n",
    "        return mat\n",
    "    \n",
    "    elif mode == 'full_reduction':\n",
    "        \n",
    "        pivot_row = 0\n",
    "        pivot_col = 0\n",
    "        \n",
    "        # take care of zero pivots by swapping the row \n",
    "        # reducing the matrix by gauess jordan eleimination\n",
    "        while pivot_row < mat.shape[0]:\n",
    "            swap_row_idx = -1\n",
    "            while mat[pivot_row, pivot_col] == 0 and pivot_row != mat.shape[0]-1:\n",
    "                # print('hi')\n",
    "                mat[pivot_row],mat[swap_row_idx] = mat[swap_row_idx] , mat[pivot_row]\n",
    "                swap_row_idx -= 1\n",
    "        \n",
    "            mat[pivot_row] = mat[pivot_row] / mat[pivot_row, pivot_col]\n",
    "            \n",
    "            for i in range(pivot_row + 1,mat.shape[0]):\n",
    "                # print('hi')\n",
    "                factor = (mat[i,pivot_col] / mat[pivot_row, pivot_col])\n",
    "                mat[i] = mat[i] - (factor *mat[pivot_row])\n",
    "                factors[i,pivot_col] = factor\n",
    "\n",
    "            for j in range(pivot_row):\n",
    "                # print('hi')\n",
    "                f = mat[j, pivot_col] / mat[pivot_row, pivot_col]  \n",
    "                mat[j] = mat[j] - (f * mat[pivot_row]) \n",
    "            \n",
    "            pivot_row += 1\n",
    "            pivot_col += 1\n",
    "        return mat\n",
    "        \n",
    "# ============================== LU Decomposition ======================================================\n",
    "def LU_Decomp(mat):\n",
    "    '''\n",
    "    performs LU decomposition to matrix mat \n",
    "    \n",
    "    parameters:\n",
    "        mat: square matrix of shape(n,n)\n",
    "        \n",
    "    returns: \n",
    "        L: lower matrix of shape (n,n)\n",
    "        U: upper matrix of shape (n,n)\n",
    "        where L @ U = mat\n",
    "    '''\n",
    "    U = mat.copy().astype(np.float32) # cut the reference to make changes in new copy of the matrix \n",
    "    L = np.eye(U.shape[0])              #/// casting to float as it won't work when we have floats numbers in our operations results\n",
    "    for i in range(U.shape[0]):\n",
    "        # print('before: ',U)\n",
    "        L[:,i] = reduce_row(U, [i,i])\n",
    "        # print(U)\n",
    "    return L,U\n",
    "\n",
    "# ============================= solve system of linear equation with LU Decomposition =======================================================\n",
    "def solve_system(A,y):\n",
    "    '''\n",
    "    solving system of liinear equations with LU decomposition\n",
    "    \n",
    "    parameters:\n",
    "        mat: matrix (n,n) i don't check for dims or if it conatis dependents vectors as not my concern now\n",
    "            mat is the variables factors matrix\n",
    "        y: array-like ,list (n,1)\n",
    "    \n",
    "    returns:\n",
    "        the solution of the system A * x = y \n",
    "    '''\n",
    "    factors = A.copy()\n",
    "    L,U = LU_Decomp(factors)\n",
    "    \n",
    "    # solvig this structure ux = m,  lm = y\n",
    "        ### 1- getting m\n",
    "    augumented_matrx = np.column_stack((L,y))\n",
    "    m = reduce_row(augumented_matrx, [0,0], 'full_reduction')\n",
    "    m = m[:,-1]\n",
    "        ### 2- getting x\n",
    "    augumented_matrx2 = np.column_stack((U,m))\n",
    "    x = reduce_row(augumented_matrx2, [0,0], 'full_reduction')\n",
    "    x = x[:,-1]\n",
    "    \n",
    "    return x\n",
    "    "
   ]
  },
  {
   "cell_type": "code",
   "execution_count": 12,
   "id": "3fa9e27d",
   "metadata": {},
   "outputs": [
    {
     "data": {
      "text/plain": [
       "array([0, 0, 0, 1])"
      ]
     },
     "execution_count": 12,
     "metadata": {},
     "output_type": "execute_result"
    }
   ],
   "source": [
    "np.array(([0] * p2.shape[0]) +[1])"
   ]
  },
  {
   "cell_type": "markdown",
   "id": "ea74bd58",
   "metadata": {},
   "source": [
    "## Jacobi method && Guess sidel method"
   ]
  },
  {
   "cell_type": "code",
   "execution_count": 212,
   "id": "6b31ed47",
   "metadata": {},
   "outputs": [],
   "source": [
    "def Jacobi(mat, max_n_iters = 100,epsilon = .001):\n",
    "    n_iters = 0\n",
    "    solution_old = np.array(([0] * mat.shape[0]) +[1], dtype= np.float32)\n",
    "    solution_new = np.array(([0] * mat.shape[0]) +[1], dtype= np.float32)\n",
    "    for i in range(max_n_iters):\n",
    "        for j in range(solution_new.shape[0]-1):\n",
    "            solution_new[j] = np.sum(mat[j] * solution_old )\n",
    "            # solution_new[1] = np.sum(p3[1] * solution_new )\n",
    "            # solution_new[2] = np.sum(p3[2] * solution_new )\n",
    "            # solution_new[3] = np.sum(p3[3] * solution_new )\n",
    "        n_iters += 1\n",
    "\n",
    "        # stopping criteria\n",
    "        if np.linalg.norm(solution_new - solution_old, ord = np.inf) < epsilon: # we use the l inf norm order\n",
    "            break\n",
    "        solution_old = solution_new.copy() # use copy to cut the link of array broadcasting\n",
    "    return solution_new[:-1] , n_iters\n",
    "\n",
    "\n",
    "# gauss sidel algorithm \n",
    "def Gauss_sidel(mat, max_n_iters = 100, epsilon = .001):\n",
    "    n_iters = 0\n",
    "    solution_old = np.array(([0] * mat.shape[0]) +[1], dtype= np.float32)\n",
    "    solution_new = np.array(([0] * mat.shape[0]) +[1], dtype= np.float32)\n",
    "    for i in range(max_n_iters):\n",
    "        for j in range(solution_new.shape[0]-1):\n",
    "            solution_new[j] = np.sum(mat[j] * solution_new )\n",
    "            # solution_new[1] = np.sum(p3[1] * solution_new )\n",
    "            # solution_new[2] = np.sum(p3[2] * solution_new )\n",
    "            # solution_new[3] = np.sum(p3[3] * solution_new )\n",
    "        n_iters += 1\n",
    "\n",
    "        # stopping criteria\n",
    "        if np.linalg.norm(solution_new - solution_old, ord = np.inf) < epsilon: # we use the l inf norm order\n",
    "            break\n",
    "        solution_old = solution_new.copy() # use copy to cut the link of array broadcasting\n",
    "    return solution_new[:-1] , n_iters\n",
    "\n"
   ]
  },
  {
   "cell_type": "markdown",
   "id": "f9443fc9",
   "metadata": {},
   "source": [
    "## Power method"
   ]
  },
  {
   "cell_type": "code",
   "execution_count": 13,
   "id": "b492bfa8",
   "metadata": {},
   "outputs": [],
   "source": [
    "def power_method(mat):\n",
    "    '''\n",
    "    Implementing power method to find eigen vector of largest eigen vector(corresponding to largest eigen value)\n",
    "    of transformation matrix\n",
    "    params:\n",
    "        mat: ndarray of shape (n,n) the transformation matrix\n",
    "    returns:\n",
    "        vect: eigen vecotr corresponding to largest eigen value\n",
    "        val : (max(vect)) largest eign value\n",
    "    '''\n",
    "    # 1- initialize the vect with let's say [1,1] (of the n dims) \n",
    "    # 2- repeate:\n",
    "    #   a- normalize vect with inf norm\n",
    "    #   b- matrix multiplication of the vect and mat (mat @ vect = lambda vect)\n",
    "    #   c- until vect_new is close to vect old\n",
    "    # 3- the larges eigen value is the largest component in vect (this is the result of noumalization step we did) \n",
    "    vect = np.ones((mat.shape[0], 1), dtype= np.float32)\n",
    "    vect_old = vect.copy()\n",
    "    for i in range(1000):\n",
    "        vect = vect / np.linalg.norm(vect, ord= np.inf)\n",
    "        vect = mat @ vect\n",
    "        if np.allclose(vect, vect_old):\n",
    "            print('n iterations: ',i) # I can remove this (this only to show how long did it take to reach target)\n",
    "            break\n",
    "        else:\n",
    "            vect_old = vect.copy()\n",
    "\n",
    "    return vect , max(vect)\n"
   ]
  },
  {
   "cell_type": "markdown",
   "id": "e8f1c549",
   "metadata": {},
   "source": [
    "## SVD for image compression"
   ]
  },
  {
   "cell_type": "code",
   "execution_count": null,
   "id": "2dfcfdcd",
   "metadata": {},
   "outputs": [],
   "source": [
    "# svd and image compression\n",
    "from PIL import Image\n",
    "import matplotlib.pyplot as plt \n",
    "%matplotlib inline\n",
    "plt.style.use('classic')\n",
    "img = Image.open('goose.jpg')\n",
    "# convert image to grayscale\n",
    "imggray = img.convert('LA')\n",
    "# convert to numpy array\n",
    "imgmat = np.array(list(imggray.getdata(band=0)), float)\n",
    "# Reshape according to orginal image dimensions\n",
    "imgmat.shape = (imggray.size[1], imggray.size[0])\n",
    "\n",
    "plt.figure(figsize=(9, 6))\n",
    "plt.imshow(imgmat, cmap='gray')\n",
    "plt.show()\n",
    "\n",
    "U,sigma,VT = scipy.linalg.svd(imgmat)\n",
    "\n",
    "\n",
    "x = np.zeros_like(imgmat)\n",
    "np.fill_diagonal(x,sigma) # it works inplace\n",
    "for i in range(5,len(sigma),5):\n",
    "    plt.figure()\n",
    "    plt.imshow((U @x[:,:i]) @ VT[:i,:], cmap= 'gray')\n",
    "    plt.title('n sigmas = {}'.format(i))\n",
    "    if i == 100:\n",
    "        break"
   ]
  },
  {
   "cell_type": "markdown",
   "id": "2351caa2",
   "metadata": {},
   "source": [
    "## SVD for moore penrose sudoinverse of matrix"
   ]
  },
  {
   "cell_type": "code",
   "execution_count": null,
   "id": "6bdbac9e",
   "metadata": {},
   "outputs": [],
   "source": [
    "u,s,vt = scipy.linalg.svd(A)\n",
    "d = np.zeros_like(A.T, ).astype( np.float32)\n",
    "np.fill_diagonal(d,s)\n",
    "\n",
    "d = np.power(d, -1 ,where= d !=0 )\n",
    "# print(d)\n",
    "A_plus = (vt.T @ d) @ u.T\n",
    "A_plus"
   ]
  },
  {
   "cell_type": "markdown",
   "id": "0a5393df",
   "metadata": {},
   "source": [
    "## Bisection method"
   ]
  },
  {
   "cell_type": "code",
   "execution_count": null,
   "id": "f2e197a0",
   "metadata": {},
   "outputs": [],
   "source": [
    "# I will use the function as lambda expression\n",
    "f1 = lambda x : x**3 - x - 2\n",
    "f2 = lambda x : x**2 - 2\n",
    "def bisection(f, a, b):\n",
    "    '''\n",
    "    find the root of function f(x), the root is where the function = 0\n",
    "    params:\n",
    "        f: the function f(x) as lambda expresion\n",
    "        a: left bound (where f(a) >0)\n",
    "        b: right bound (where f(b) <0)\n",
    "    return:\n",
    "        root\n",
    "    '''\n",
    "    for i in range( 100):\n",
    "        t = (a+b)/2\n",
    "        if abs(f(t)) < .001:\n",
    "            print('no of iteration is: ',i)\n",
    "            print('the root is: ', t)\n",
    "            print('f(x) at root is: ', f(t))\n",
    "            break\n",
    "        elif f(t) * f(a) < 0:\n",
    "            b = t\n",
    "        elif f(t) * f(b) < 0:\n",
    "            a = t"
   ]
  },
  {
   "cell_type": "markdown",
   "id": "20679f68",
   "metadata": {},
   "source": [
    "## Fixed point method"
   ]
  },
  {
   "cell_type": "code",
   "execution_count": null,
   "id": "feb067d2",
   "metadata": {},
   "outputs": [],
   "source": [
    "## can be better\n",
    "\n",
    "fx1 = lambda x: x**2 -x -1\n",
    "gx1 = lambda x: (x**2) -1\n",
    "gx12 = lambda x: (x + 1)**.5\n",
    "fx2 = lambda x: x - np.sin(np.deg2rad(x)) - .5\n",
    "gx2 = lambda x: np.sin(np.deg2rad(x)) + .5\n",
    "def fixed_point(gx, x0):\n",
    "\n",
    "    '''\n",
    "    fixed point method finds the root of nonlinar equation. it turns the problem from finding the root to finding fixed point problem \n",
    "    params:\n",
    "        gx: the transformation of the original function f(x) to the new form x = g(x) \n",
    "        x0: inital guess of the root\n",
    "    returns:\n",
    "        xr: the root value\n",
    "    '''\n",
    "    xr = x0\n",
    "    for i in range(1000):\n",
    "        \n",
    "        if abs(gx(xr) - xr) < .0001:\n",
    "            print('no of iteration is: ',i)\n",
    "            print('the root is: ', xr)\n",
    "            print('f(x) at root is: ', gx(xr))\n",
    "            break\n",
    "        else:\n",
    "\n",
    "            xr = gx(xr)\n",
    "    if i == 1000:\n",
    "        print(\"iterations ended at value of g(x) = \", gx(xr))\n",
    "    "
   ]
  },
  {
   "cell_type": "markdown",
   "id": "7be1b517",
   "metadata": {},
   "source": [
    "## Newton-Raphson method"
   ]
  },
  {
   "cell_type": "code",
   "execution_count": null,
   "id": "cea991e1",
   "metadata": {},
   "outputs": [],
   "source": [
    "# can be better but i don't have enogh time\n",
    "fx1 = lambda x: x**3 - x**2 - 15* x + 1\n",
    "fhx1 = lambda x: 3 * x**2 - 2 * x -15\n",
    "fx2 = lambda x: np.cos(np.deg2rad(x)) - x\n",
    "fhx2 = lambda x: -np.sin(np.deg2rad(x)) - 1\n",
    "fx3 = lambda x: x**3 - 2 *x + 2\n",
    "fhx3 = lambda x: 3 *x **2 - 2\n",
    "def newton(fx,f_hat_x, x0):\n",
    "    '''\n",
    "    Newton Raphson method finds the root of nonlinar equation. it is special case of fixed point method \n",
    "    params:\n",
    "        fx: the original function f(x) to find the root\n",
    "        f_hat_x: first drevative of f(x)\n",
    "        x0: inital guess of the root\n",
    "    returns:\n",
    "        xr: the root value\n",
    "    '''\n",
    "    xr = x0\n",
    "    for i in range(1000):\n",
    "        if abs(xr - (xr - (fx(xr)/f_hat_x(xr)))) < .0001:\n",
    "            print('no of iteration is: ',i)\n",
    "            print('the root is: ', xr)\n",
    "            break\n",
    "        else:\n",
    "            xr = (xr - (fx(xr)/f_hat_x(xr)))\n",
    "\n",
    "    if i == 1000:\n",
    "        print('we didn\\'t find the root')"
   ]
  },
  {
   "cell_type": "markdown",
   "id": "27dedfcd",
   "metadata": {},
   "source": [
    "## Secant Method for root finding"
   ]
  },
  {
   "cell_type": "code",
   "execution_count": 2,
   "id": "8b93b3eb",
   "metadata": {},
   "outputs": [],
   "source": [
    "fx = lambda x: x**3 - x**2 - 15 * x + 1\n",
    "def secant(fx, x0):\n",
    "    '''\n",
    "    secant method finds the root of nonlinar equation. it is special case of fixed point method \n",
    "    params:\n",
    "        fx: the original function f(x) to find the root\n",
    "        x0: inital guess of the root\n",
    "    returns:\n",
    "        doesn't return any thing it prints\n",
    "        xr: the root value\n",
    "        \"can be modified to return value\"\n",
    "    '''\n",
    "    xr = x0\n",
    "    xr0 = 0 ## this is Xk-1\n",
    "    for i in range(1000):\n",
    "        if  abs(xr -  xr0   )  < .0001:\n",
    "            print('no of iteration is: ',i)\n",
    "            print('the root is: ', xr)\n",
    "            break\n",
    "        else:\n",
    "            \n",
    "            xr0 ,xr = xr, (xr - fx(xr) * (xr - xr0)/(fx(xr) - fx(xr0)) )\n",
    "\n",
    "    if i == 1000:\n",
    "        print('we didn\\'t find the root')"
   ]
  },
  {
   "cell_type": "code",
   "execution_count": 5,
   "id": "64cbaa20",
   "metadata": {},
   "outputs": [
    {
     "name": "stdout",
     "output_type": "stream",
     "text": [
      "no of iteration is:  6\n",
      "the root is:  0.06639231426182626\n",
      "====================\n",
      "-2.3005153337862794e-11\n"
     ]
    }
   ],
   "source": [
    "# test secant method\n",
    "secant(fx, 5.5)\n",
    "print('='*20)\n",
    "print(fx(0.06639231426182626))"
   ]
  },
  {
   "cell_type": "markdown",
   "id": "81b2f72a",
   "metadata": {},
   "source": [
    "## Quazi-Newton method for Optimization"
   ]
  },
  {
   "cell_type": "code",
   "execution_count": 15,
   "id": "f9db865c",
   "metadata": {},
   "outputs": [],
   "source": [
    "# for one dim\n",
    "def Quasi_newton(f,df,ddf, x0):\n",
    "    '''\n",
    "    it works like gradient decent to find the minimu of function f except it is a second order \n",
    "    optimization method while gradient method is first order method.\n",
    "    while Quasi newton work very fast compard to gradient decent it can't be used in deep learning as \n",
    "    the functions get more complex. means second order terms are until now only used with the convex \n",
    "    convex function due to one simple reason. \"second order methods guranteed to reach a stationary point\n",
    "    min, max, saddle and it reaches it fast\" we can't control which one to get to so we only use them \n",
    "    with convex problems where we only have one stationary point our minimum\n",
    "    \n",
    "    params:\n",
    "        f: the function to be optimized\n",
    "        df: first drivative of f\n",
    "        ddf: second drivative of f\n",
    "        x0: inital guess for the minimum\n",
    "    '''\n",
    "    x_min = x0\n",
    "    for i in range(300):\n",
    "        if f(x_min) < .01:\n",
    "            print('no of iteration is: ',i)\n",
    "            print('X minimum is: ', x_min)\n",
    "            break\n",
    "        else:\n",
    "            x_min = x_min - (df(x_min)/ddf(x_min))\n",
    "    if i == 300:\n",
    "        print(\"iterations ended with x min = \", x_min)"
   ]
  },
  {
   "cell_type": "markdown",
   "id": "36402b1d",
   "metadata": {},
   "source": [
    "## BFGS"
   ]
  },
  {
   "cell_type": "code",
   "execution_count": null,
   "id": "74b51780",
   "metadata": {},
   "outputs": [],
   "source": [
    "def bfgs(x0,x1, dfx,B):\n",
    "    eye = np.identity(2)\n",
    "    for i in range(300):\n",
    "\n",
    "        grad_x0 = dfx(x0)\n",
    "        grad_x1 = dfx(x1)\n",
    "\n",
    "        delta_x = (x1- x0).reshape(-1,1)\n",
    "        y= (grad_x1 - grad_x0).reshape(-1,1)\n",
    "\n",
    "        B=(eye-(delta_x@y.T)/(y.T@delta_x))@ B @(eye-((y@delta_x.T)/(y.T@delta_x)))+(((delta_x@delta_x.T)/(y.T@delta_x)))\n",
    "\n",
    "        x_k_plus = x1-B @ dfx(x1)\n",
    "\n",
    "        if(abs(np.linalg.norm(dfx(x_k_plus)))<.0000001):\n",
    "            print(\"number of iteration : \", i+1)\n",
    "            print('final x vect is : ', x_k_plus)\n",
    "            break\n",
    "        else:\n",
    "            x0,x1 = x1, x_k_plus"
   ]
  },
  {
   "cell_type": "code",
   "execution_count": null,
   "id": "7d98a57b",
   "metadata": {},
   "outputs": [],
   "source": [
    "## BFGS test\n",
    "f = lambda x: x[0] **2 + x[1]**2\n",
    "dfx = lambda x: np.array([2*x[0], 2*x[1]] )\n",
    "\n",
    "f2 = lambda x: x[0] **2 + x[0] *x[1]+ x[1]**2\n",
    "dfx2 = lambda x: np.array([2*x[0] + x[0], 2*x[1] + x[1]] )\n",
    "B=np.identity(2)\n",
    "x0=np.array([10,10])\n",
    "#print(x0.shape)\n",
    "x1=np.array([9,9])\n",
    "\n",
    "bfgs(x0,x1,dfx2, B) "
   ]
  },
  {
   "cell_type": "code",
   "execution_count": 9,
   "id": "4a1ddc0e",
   "metadata": {},
   "outputs": [],
   "source": [
    "def plot_function(f):\n",
    "    '''\n",
    "    plot the function f\n",
    "    params:\n",
    "        f: the function to plot (lambda function)\n",
    "    returns:\n",
    "        doesn't return anything it shows the function plot\n",
    "    '''\n",
    "    x = list(range(-50, 66))\n",
    "    y = [f(n) for n in x]\n",
    "    plt.plot(x,y)\n",
    "    plt.grid(True)"
   ]
  },
  {
   "cell_type": "code",
   "execution_count": 10,
   "id": "ca3e77a0",
   "metadata": {},
   "outputs": [],
   "source": [
    "# test Quasi Newton\n",
    "f = lambda x: x**2 - 15*x +1\n",
    "Df = lambda x: 2*x -15\n",
    "DDf = lambda x: 2"
   ]
  },
  {
   "cell_type": "code",
   "execution_count": 13,
   "id": "100be041",
   "metadata": {},
   "outputs": [
    {
     "data": {
      "image/png": "[encoded data removed]",
      "text/plain": [
       "<Figure size 432x288 with 1 Axes>"
      ]
     },
     "metadata": {
      "needs_background": "light"
     },
     "output_type": "display_data"
    }
   ],
   "source": [
    "plot_function(f)"
   ]
  },
  {
   "cell_type": "code",
   "execution_count": 19,
   "id": "bb8f5043",
   "metadata": {},
   "outputs": [
    {
     "name": "stdout",
     "output_type": "stream",
     "text": [
      "no of iteration is:  1\n",
      "X minimum is:  7.5\n"
     ]
    }
   ],
   "source": [
    "Quasi_newton(f,Df, DDf, 100)"
   ]
  },
  {
   "cell_type": "code",
   "execution_count": null,
   "id": "17e3a72e",
   "metadata": {},
   "outputs": [],
   "source": [
    "p1 = np.array([[2,5],[1,2]]) ; y1 = np.array([21,8])\n",
    "p2 = np.array([[1,1,1], [4,3,-1],[3,5,3]], dtype= np.float32); y2 = np.array([1,6,4])\n",
    "p3 = np.array([[5,-2,3], [-3,9,1],[2,-1,-7]], dtype= np.float32) ; y3 = np.array([-1,2,3])"
   ]
  },
  {
   "cell_type": "code",
   "execution_count": null,
   "id": "d2bad1cb",
   "metadata": {},
   "outputs": [
    {
     "data": {
      "text/plain": [
       "array([-1.,  2.,  2.])"
      ]
     },
     "metadata": {},
     "output_type": "display_data"
    }
   ],
   "source": [
    "# ## test cell for LU solve  result should be [-1.,  2.,  2.]\n",
    "# A = np.array([[2,4,-2], [4,9,-3],[-2,-3,7]]) ; y = np.array([2,8,10])\n",
    "# solve_system(A, y )"
   ]
  },
  {
   "cell_type": "code",
   "execution_count": null,
   "id": "e537d14b",
   "metadata": {},
   "outputs": [],
   "source": [
    "# reshaping matrix for jacobi \n",
    "# p3 = np.column_stack((p3, y3))\n",
    "\n",
    "# for i in range(p3.shape[0]):\n",
    "#     p3[i] = p3[i] / -p3[i,i]\n",
    "#     p3[i,i] = 0\n",
    "#     p3[i,-1] = p3[i,-1] * -1\n",
    "# p3"
   ]
  },
  {
   "cell_type": "code",
   "execution_count": null,
   "id": "46e5c3b1",
   "metadata": {},
   "outputs": [],
   "source": [
    "## test cell for jacobi and gauss sidel method result should be result should be [1, 2, -1 ,1] becareful add the extra dim in the for loop below \n",
    "# p3 = np.array([[0, 1/10, -1/5, 0 , 3/5], [1/11, 0, 1/11, -3/11, 25/11], [-1/5, 1/10, 0, 1/10, -11/10],[0,-3/8, 1/8, 0, 15/8] ])\n",
    "# p3"
   ]
  },
  {
   "cell_type": "code",
   "execution_count": 113,
   "id": "18313e72",
   "metadata": {},
   "outputs": [
    {
     "name": "stdout",
     "output_type": "stream",
     "text": [
      "[-2.  5.]\n",
      "[ 1.   0.5 -0.5]\n",
      "[ 0.18611987  0.33123028 -0.42271293]\n"
     ]
    }
   ],
   "source": [
    "# solving all assignment problems with LU to check\n",
    "for i, j in zip([p1,p2,p3], [y1,y2,y3]):\n",
    "    print(solve_system(i,j))"
   ]
  },
  {
   "cell_type": "code",
   "execution_count": 217,
   "id": "9d05e113",
   "metadata": {},
   "outputs": [
    {
     "name": "stdout",
     "output_type": "stream",
     "text": [
      "jacobi solution:  [ 0.18605365  0.33129176 -0.4226442 ]  and n iteration is:  7\n",
      "gauss sidel solution:  [ 0.18606088  0.33120155 -0.42272568]  and n iteration is:  5\n",
      "LU method solution is:  [ 0.18611987  0.33123028 -0.42271293]\n"
     ]
    }
   ],
   "source": [
    "# problem p3 jacobi and gauss sidel\n",
    "p33 = np.column_stack((p3, y3))\n",
    "\n",
    "for i in range(p3.shape[0]):\n",
    "    p33[i] = p33[i] / -p33[i,i]\n",
    "    p33[i,i] = 0\n",
    "    p33[i,-1] = p33[i,-1] * -1\n",
    "# p33\n",
    "\n",
    "j_sol , j_n = Jacobi(p33)\n",
    "g_sol , g_n = Gauss_sidel(p33)\n",
    "lu_sol = solve_system(p3, y3)\n",
    "\n",
    "print('jacobi solution: ', j_sol, ' and n iteration is: ', j_n)\n",
    "\n",
    "print('gauss sidel solution: ', g_sol, ' and n iteration is: ', g_n)\n",
    "\n",
    "print('LU method solution is: ', lu_sol)"
   ]
  },
  {
   "cell_type": "code",
   "execution_count": 17,
   "id": "5c5acdb5",
   "metadata": {},
   "outputs": [],
   "source": [
    "# A = np.array([[-4,14,0],\n",
    "#               [-5,13,0],\n",
    "#               [-1,0,2]])\n",
    "A = np.array([[0, 2], \n",
    "              [2, 3]])"
   ]
  },
  {
   "cell_type": "code",
   "execution_count": 18,
   "id": "5d7c1610",
   "metadata": {},
   "outputs": [
    {
     "name": "stdout",
     "output_type": "stream",
     "text": [
      "n iterations:  9\n"
     ]
    },
    {
     "data": {
      "text/plain": [
       "(array([[2.        ],\n",
       "        [3.99999682]]),\n",
       " array([3.99999682]))"
      ]
     },
     "execution_count": 18,
     "metadata": {},
     "output_type": "execute_result"
    }
   ],
   "source": [
    "power_method(A)"
   ]
  },
  {
   "cell_type": "code",
   "execution_count": null,
   "id": "41959941",
   "metadata": {},
   "outputs": [],
   "source": [
    "\n",
    "\n"
   ]
  },
  {
   "cell_type": "code",
   "execution_count": 16,
   "id": "660a5ca5",
   "metadata": {},
   "outputs": [
    {
     "data": {
      "text/plain": [
       "array([[2, 0, 0],\n",
       "       [0, 3, 0],\n",
       "       [0, 0, 4]])"
      ]
     },
     "execution_count": 16,
     "metadata": {},
     "output_type": "execute_result"
    }
   ],
   "source": [
    "dig = np.array([2,3,4])\n",
    "np.diag(dig)"
   ]
  },
  {
   "cell_type": "code",
   "execution_count": null,
   "id": "4fc2196f",
   "metadata": {},
   "outputs": [],
   "source": []
  },
  {
   "cell_type": "code",
   "execution_count": 3,
   "id": "5a1eae90",
   "metadata": {},
   "outputs": [],
   "source": [
    "l = list(map(int,input().split()))"
   ]
  },
  {
   "cell_type": "code",
   "execution_count": 5,
   "id": "f27e7d7b",
   "metadata": {},
   "outputs": [
    {
     "data": {
      "text/plain": [
       "'22 11'"
      ]
     },
     "execution_count": 5,
     "metadata": {},
     "output_type": "execute_result"
    }
   ],
   "source": [
    "' '.join(map(str,l))"
   ]
  },
  {
   "cell_type": "code",
   "execution_count": 25,
   "id": "1885fd06",
   "metadata": {},
   "outputs": [
    {
     "name": "stdout",
     "output_type": "stream",
     "text": [
      "[0, 0]\n",
      "00 00\n"
     ]
    }
   ],
   "source": [
    "lanuch = list(map(int,input().split()))\n",
    "hit_time = list(map(int,input().split()))\n",
    "out = [lanuch[0] + hit_time[0], lanuch[1]+hit_time[1]]\n",
    "    # print('******')\n",
    "if out[1] >= 60:\n",
    "    out[0] = out[0] + 1\n",
    "    out[1] = out[1] - 60\n",
    "if out[0] > 23 :\n",
    "    out[0] = out[0] - 24\n",
    "print(out)\n",
    "# l_out = list(map(str,out))\n",
    "# for i in range(len(l_out)):\n",
    "#     if len(l_out[i]) <2:\n",
    "#         l_out[i] = '0'+l_out[i] \n",
    "# print(' '.join(l_out))\n",
    "print(f'{out[0]:02d}',f'{out[1]:02d}', sep = ' ')"
   ]
  },
  {
   "cell_type": "code",
   "execution_count": 32,
   "id": "64749330",
   "metadata": {},
   "outputs": [
    {
     "name": "stdout",
     "output_type": "stream",
     "text": [
      "2\n",
      "3\n",
      "[8]\n",
      "8\n",
      "5\n",
      "[3]\n",
      "3\n"
     ]
    }
   ],
   "source": [
    "T = int(input())\n",
    "print(T)\n",
    "for i in range(T):\n",
    "    N = int(input())\n",
    "    print(N)\n",
    "    G = list(map(int,input().split()))\n",
    "    print(G)\n",
    "    G.sort()\n",
    "    print(sum(G[:N]))"
   ]
  },
  {
   "cell_type": "code",
   "execution_count": null,
   "id": "2be97970",
   "metadata": {},
   "outputs": [],
   "source": []
  }
 ],
 "metadata": {
  "interpreter": {
   "hash": "916dbcbb3f70747c44a77c7bcd40155683ae19c65e1c03b4aa3499c5328201f1"
  },
  "kernelspec": {
   "display_name": "Python 3.8.10 64-bit",
   "language": "python",
   "name": "python3"
  },
  "language_info": {
   "codemirror_mode": {
    "name": "ipython",
    "version": 3
   },
   "file_extension": ".py",
   "mimetype": "text/x-python",
   "name": "python",
   "nbconvert_exporter": "python",
   "pygments_lexer": "ipython3",
   "version": "3.8.10"
  }
 },
 "nbformat": 4,
 "nbformat_minor": 5
}
