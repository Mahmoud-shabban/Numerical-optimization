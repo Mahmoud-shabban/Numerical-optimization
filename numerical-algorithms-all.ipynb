{
 "cells": [
  {
   "cell_type": "code",
   "execution_count": 6,
   "id": "b453f913",
   "metadata": {},
   "outputs": [],
   "source": [
    "import numpy as np\n",
    "import scipy\n",
    "import scipy.linalg "
   ]
  },
  {
   "cell_type": "markdown",
   "id": "135c4e4a",
   "metadata": {},
   "source": [
    "***** LU decomposition <br>\n",
    "2x + 5y = 21 <br>\n",
    "x + 2y = 8 <br>\n",
    "*******\n",
    "x1 + x2 + x3 = 1 <br>\n",
    "4x1 + 3x2 - x3 = 6 <br>\n",
    "3x1 + 5x2 + 3x3 = 4 <br>\n",
    "\n",
    "***** jacobi and gauess sidel part <br>\n",
    "5x1 -2x2 + 3x3 = -1 <br>\n",
    "-3x1 + 9x2 + x3 = 2 <br>\n",
    "2x1 -x2 -7x3 = 3 <br>"
   ]
  },
  {
   "cell_type": "code",
   "execution_count": 2,
   "id": "b1b0b0dc",
   "metadata": {},
   "outputs": [],
   "source": [
    "####### implementing LU Decomposition to solve system of linear equations\n",
    "\n",
    "def reduce_row(mat, pivot, mode = 'ref'):\n",
    "    '''\n",
    "    perfroms row reduction to matrix mat and put it in the ref format or in rref format\n",
    "    \n",
    "    parameter:\n",
    "        mat : square matrix shape (n,n) dtype = float\n",
    "        pivot: list [pivot row, pivot column\n",
    "        mode: str ('ref','rref', 'full_reduction' ) defalut 'ref' \n",
    "              it determines wheter to reduce the matrix to ref format or rref according to certain pivot element\n",
    "              if 'full_reduction' it will return a all the matrix in the in rref  \n",
    "    returns:\n",
    "        it does its work in place\n",
    "    '''\n",
    "    pivot_row = pivot[0]\n",
    "    pivot_col = pivot[1]\n",
    "    factors = np.eye(mat.shape[0])\n",
    "    \n",
    "    # to overcome if the pivot elemnt is 0 swap with another row \n",
    "    if mode != 'full_reduction' and pivot_row < mat.shape[0]-1:\n",
    "\n",
    "        swap_row_idx = -1\n",
    "        while mat[pivot_row, pivot_col] == 0:\n",
    "            mat[pivot_row],mat[swap_row_idx] = mat[swap_row_idx] , mat[pivot_row]\n",
    "            swap_row_idx -= 1\n",
    "\n",
    "    \n",
    "    if mode == 'ref':  \n",
    "\n",
    "        for i in range(pivot_row + 1,mat.shape[0]):\n",
    "            factor = (mat[i,pivot_col] / mat[pivot_row, pivot_col])\n",
    "            mat[i,:] = mat[i] - factor * mat[pivot_row]\n",
    "            factors[i,pivot_col] = factor\n",
    "\n",
    "        return factors[:,pivot_col]\n",
    "    \n",
    "    elif mode == 'rref':\n",
    "\n",
    "        mat[pivot_row] = mat[pivot_row] / mat[pivot_row, pivot_col]\n",
    "        for i in range(pivot_row + 1,mat.shape[0]):\n",
    "            factor = (mat[i,pivot_col] / mat[pivot_row, pivot_col])\n",
    "            mat[i] = mat[i] - (factor *mat[pivot_row])\n",
    "           \n",
    "            factors[i,pivot_col] = factor\n",
    "        \n",
    "        # reducing elements above the pivot\n",
    "        for j in range(pivot_row):\n",
    "            f = mat[j, pivot_col] / mat[pivot_row, pivot_col]  \n",
    "            mat[j] = mat[j] - (f * mat[pivot_row]) \n",
    "        \n",
    "        return mat\n",
    "    \n",
    "    elif mode == 'full_reduction':\n",
    "        \n",
    "        pivot_row = 0\n",
    "        pivot_col = 0\n",
    "        \n",
    "        # take care of zero pivots by swapping the row \n",
    "        # reducing the matrix by gauess jordan eleimination\n",
    "        while pivot_row < mat.shape[0]:\n",
    "            swap_row_idx = -1\n",
    "            while mat[pivot_row, pivot_col] == 0 and pivot_row != mat.shape[0]-1:\n",
    "                # print('hi')\n",
    "                mat[pivot_row],mat[swap_row_idx] = mat[swap_row_idx] , mat[pivot_row]\n",
    "                swap_row_idx -= 1\n",
    "        \n",
    "            mat[pivot_row] = mat[pivot_row] / mat[pivot_row, pivot_col]\n",
    "            \n",
    "            for i in range(pivot_row + 1,mat.shape[0]):\n",
    "                # print('hi')\n",
    "                factor = (mat[i,pivot_col] / mat[pivot_row, pivot_col])\n",
    "                mat[i] = mat[i] - (factor *mat[pivot_row])\n",
    "                factors[i,pivot_col] = factor\n",
    "\n",
    "            for j in range(pivot_row):\n",
    "                # print('hi')\n",
    "                f = mat[j, pivot_col] / mat[pivot_row, pivot_col]  \n",
    "                mat[j] = mat[j] - (f * mat[pivot_row]) \n",
    "            \n",
    "            pivot_row += 1\n",
    "            pivot_col += 1\n",
    "        return mat\n",
    "        \n",
    "# ============================== LU Decomposition ======================================================\n",
    "def LU_Decomp(mat):\n",
    "    '''\n",
    "    performs LU decomposition to matrix mat \n",
    "    \n",
    "    parameters:\n",
    "        mat: square matrix of shape(n,n)\n",
    "        \n",
    "    returns: \n",
    "        L: lower matrix of shape (n,n)\n",
    "        U: upper matrix of shape (n,n)\n",
    "        where L @ U = mat\n",
    "    '''\n",
    "    U = mat.copy().astype(np.float32) # cut the reference to make changes in new copy of the matrix \n",
    "    L = np.eye(U.shape[0])              #/// casting to float as it won't work when we have floats numbers in our operations results\n",
    "    for i in range(U.shape[0]):\n",
    "        # print('before: ',U)\n",
    "        L[:,i] = reduce_row(U, [i,i])\n",
    "        # print(U)\n",
    "    return L,U\n",
    "\n",
    "# ============================= solve system of linear equation with LU Decomposition =======================================================\n",
    "def solve_system(A,y):\n",
    "    '''\n",
    "    solving system of liinear equations with LU decomposition\n",
    "    \n",
    "    parameters:\n",
    "        mat: matrix (n,n) i don't check for dims or if it conatis dependents vectors as not my concern now\n",
    "            mat is the variables factors matrix\n",
    "        y: array-like ,list (n,1)\n",
    "    \n",
    "    returns:\n",
    "        the solution of the system A * x = y \n",
    "    '''\n",
    "    factors = A.copy()\n",
    "    L,U = LU_Decomp(factors)\n",
    "    \n",
    "    # solvig this structure ux = m,  lm = y\n",
    "        ### 1- getting m\n",
    "    augumented_matrx = np.column_stack((L,y))\n",
    "    m = reduce_row(augumented_matrx, [0,0], 'full_reduction')\n",
    "    m = m[:,-1]\n",
    "        ### 2- getting x\n",
    "    augumented_matrx2 = np.column_stack((U,m))\n",
    "    x = reduce_row(augumented_matrx2, [0,0], 'full_reduction')\n",
    "    x = x[:,-1]\n",
    "    \n",
    "    return x\n",
    "    "
   ]
  },
  {
   "cell_type": "code",
   "execution_count": 12,
   "id": "3fa9e27d",
   "metadata": {},
   "outputs": [
    {
     "data": {
      "text/plain": [
       "array([0, 0, 0, 1])"
      ]
     },
     "execution_count": 12,
     "metadata": {},
     "output_type": "execute_result"
    }
   ],
   "source": [
    "np.array(([0] * p2.shape[0]) +[1])"
   ]
  },
  {
   "cell_type": "code",
   "execution_count": 212,
   "id": "6b31ed47",
   "metadata": {},
   "outputs": [],
   "source": [
    "def Jacobi(mat, max_n_iters = 100,epsilon = .001):\n",
    "    n_iters = 0\n",
    "    solution_old = np.array(([0] * mat.shape[0]) +[1], dtype= np.float32)\n",
    "    solution_new = np.array(([0] * mat.shape[0]) +[1], dtype= np.float32)\n",
    "    for i in range(max_n_iters):\n",
    "        for j in range(solution_new.shape[0]-1):\n",
    "            solution_new[j] = np.sum(mat[j] * solution_old )\n",
    "            # solution_new[1] = np.sum(p3[1] * solution_new )\n",
    "            # solution_new[2] = np.sum(p3[2] * solution_new )\n",
    "            # solution_new[3] = np.sum(p3[3] * solution_new )\n",
    "        n_iters += 1\n",
    "\n",
    "        # stopping criteria\n",
    "        if np.linalg.norm(solution_new - solution_old, ord = np.inf) < epsilon: # we use the l inf norm order\n",
    "            break\n",
    "        solution_old = solution_new.copy() # use copy to cut the link of array broadcasting\n",
    "    return solution_new[:-1] , n_iters\n",
    "\n",
    "\n",
    "# gauss sidel algorithm \n",
    "def Gauss_sidel(mat, max_n_iters = 100, epsilon = .001):\n",
    "    n_iters = 0\n",
    "    solution_old = np.array(([0] * mat.shape[0]) +[1], dtype= np.float32)\n",
    "    solution_new = np.array(([0] * mat.shape[0]) +[1], dtype= np.float32)\n",
    "    for i in range(max_n_iters):\n",
    "        for j in range(solution_new.shape[0]-1):\n",
    "            solution_new[j] = np.sum(mat[j] * solution_new )\n",
    "            # solution_new[1] = np.sum(p3[1] * solution_new )\n",
    "            # solution_new[2] = np.sum(p3[2] * solution_new )\n",
    "            # solution_new[3] = np.sum(p3[3] * solution_new )\n",
    "        n_iters += 1\n",
    "\n",
    "        # stopping criteria\n",
    "        if np.linalg.norm(solution_new - solution_old, ord = np.inf) < epsilon: # we use the l inf norm order\n",
    "            break\n",
    "        solution_old = solution_new.copy() # use copy to cut the link of array broadcasting\n",
    "    return solution_new[:-1] , n_iters\n",
    "\n"
   ]
  },
  {
   "cell_type": "code",
   "execution_count": 13,
   "id": "b492bfa8",
   "metadata": {},
   "outputs": [],
   "source": [
    "def power_method(mat):\n",
    "    '''\n",
    "    Implementing power method to find eigen vector of largest eigen vector(corresponding to largest eigen value)\n",
    "    of transformation matrix\n",
    "    params:\n",
    "        mat: ndarray of shape (n,n) the transformation matrix\n",
    "    returns:\n",
    "        vect: eigen vecotr corresponding to largest eigen value\n",
    "        val : (max(vect)) largest eign value\n",
    "    '''\n",
    "    # 1- initialize the vect with let's say [1,1] (of the n dims) \n",
    "    # 2- repeate:\n",
    "    #   a- normalize vect with inf norm\n",
    "    #   b- matrix multiplication of the vect and mat (mat @ vect = lambda vect)\n",
    "    #   c- until vect_new is close to vect old\n",
    "    # 3- the larges eigen value is the largest component in vect (this is the result of noumalization step we did) \n",
    "    vect = np.ones((mat.shape[0], 1), dtype= np.float32)\n",
    "    vect_old = vect.copy()\n",
    "    for i in range(1000):\n",
    "        vect = vect / np.linalg.norm(vect, ord= np.inf)\n",
    "        vect = mat @ vect\n",
    "        if np.allclose(vect, vect_old):\n",
    "            print('n iterations: ',i) # I can remove this (this only to show how long did it take to reach target)\n",
    "            break\n",
    "        else:\n",
    "            vect_old = vect.copy()\n",
    "\n",
    "    return vect , max(vect)\n"
   ]
  },
  {
   "cell_type": "code",
   "execution_count": null,
   "id": "17e3a72e",
   "metadata": {},
   "outputs": [],
   "source": [
    "p1 = np.array([[2,5],[1,2]]) ; y1 = np.array([21,8])\n",
    "p2 = np.array([[1,1,1], [4,3,-1],[3,5,3]], dtype= np.float32); y2 = np.array([1,6,4])\n",
    "p3 = np.array([[5,-2,3], [-3,9,1],[2,-1,-7]], dtype= np.float32) ; y3 = np.array([-1,2,3])"
   ]
  },
  {
   "cell_type": "code",
   "execution_count": null,
   "id": "d2bad1cb",
   "metadata": {},
   "outputs": [
    {
     "data": {
      "text/plain": [
       "array([-1.,  2.,  2.])"
      ]
     },
     "metadata": {},
     "output_type": "display_data"
    }
   ],
   "source": [
    "# ## test cell for LU solve  result should be [-1.,  2.,  2.]\n",
    "# A = np.array([[2,4,-2], [4,9,-3],[-2,-3,7]]) ; y = np.array([2,8,10])\n",
    "# solve_system(A, y )"
   ]
  },
  {
   "cell_type": "code",
   "execution_count": null,
   "id": "e537d14b",
   "metadata": {},
   "outputs": [],
   "source": [
    "# reshaping matrix for jacobi \n",
    "# p3 = np.column_stack((p3, y3))\n",
    "\n",
    "# for i in range(p3.shape[0]):\n",
    "#     p3[i] = p3[i] / -p3[i,i]\n",
    "#     p3[i,i] = 0\n",
    "#     p3[i,-1] = p3[i,-1] * -1\n",
    "# p3"
   ]
  },
  {
   "cell_type": "code",
   "execution_count": null,
   "id": "46e5c3b1",
   "metadata": {},
   "outputs": [],
   "source": [
    "## test cell for jacobi and gauss sidel method result should be result should be [1, 2, -1 ,1] becareful add the extra dim in the for loop below \n",
    "# p3 = np.array([[0, 1/10, -1/5, 0 , 3/5], [1/11, 0, 1/11, -3/11, 25/11], [-1/5, 1/10, 0, 1/10, -11/10],[0,-3/8, 1/8, 0, 15/8] ])\n",
    "# p3"
   ]
  },
  {
   "cell_type": "code",
   "execution_count": 113,
   "id": "18313e72",
   "metadata": {},
   "outputs": [
    {
     "name": "stdout",
     "output_type": "stream",
     "text": [
      "[-2.  5.]\n",
      "[ 1.   0.5 -0.5]\n",
      "[ 0.18611987  0.33123028 -0.42271293]\n"
     ]
    }
   ],
   "source": [
    "# solving all assignment problems with LU to check\n",
    "for i, j in zip([p1,p2,p3], [y1,y2,y3]):\n",
    "    print(solve_system(i,j))"
   ]
  },
  {
   "cell_type": "code",
   "execution_count": 217,
   "id": "9d05e113",
   "metadata": {},
   "outputs": [
    {
     "name": "stdout",
     "output_type": "stream",
     "text": [
      "jacobi solution:  [ 0.18605365  0.33129176 -0.4226442 ]  and n iteration is:  7\n",
      "gauss sidel solution:  [ 0.18606088  0.33120155 -0.42272568]  and n iteration is:  5\n",
      "LU method solution is:  [ 0.18611987  0.33123028 -0.42271293]\n"
     ]
    }
   ],
   "source": [
    "# problem p3 jacobi and gauss sidel\n",
    "p33 = np.column_stack((p3, y3))\n",
    "\n",
    "for i in range(p3.shape[0]):\n",
    "    p33[i] = p33[i] / -p33[i,i]\n",
    "    p33[i,i] = 0\n",
    "    p33[i,-1] = p33[i,-1] * -1\n",
    "# p33\n",
    "\n",
    "j_sol , j_n = Jacobi(p33)\n",
    "g_sol , g_n = Gauss_sidel(p33)\n",
    "lu_sol = solve_system(p3, y3)\n",
    "\n",
    "print('jacobi solution: ', j_sol, ' and n iteration is: ', j_n)\n",
    "\n",
    "print('gauss sidel solution: ', g_sol, ' and n iteration is: ', g_n)\n",
    "\n",
    "print('LU method solution is: ', lu_sol)"
   ]
  },
  {
   "cell_type": "code",
   "execution_count": 17,
   "id": "5c5acdb5",
   "metadata": {},
   "outputs": [],
   "source": [
    "# A = np.array([[-4,14,0],\n",
    "#               [-5,13,0],\n",
    "#               [-1,0,2]])\n",
    "A = np.array([[0, 2], \n",
    "              [2, 3]])"
   ]
  },
  {
   "cell_type": "code",
   "execution_count": 18,
   "id": "5d7c1610",
   "metadata": {},
   "outputs": [
    {
     "name": "stdout",
     "output_type": "stream",
     "text": [
      "n iterations:  9\n"
     ]
    },
    {
     "data": {
      "text/plain": [
       "(array([[2.        ],\n",
       "        [3.99999682]]),\n",
       " array([3.99999682]))"
      ]
     },
     "execution_count": 18,
     "metadata": {},
     "output_type": "execute_result"
    }
   ],
   "source": [
    "power_method(A)"
   ]
  },
  {
   "cell_type": "code",
   "execution_count": null,
   "id": "41959941",
   "metadata": {},
   "outputs": [],
   "source": [
    "\n",
    "\n"
   ]
  },
  {
   "cell_type": "code",
   "execution_count": 16,
   "id": "660a5ca5",
   "metadata": {},
   "outputs": [
    {
     "data": {
      "text/plain": [
       "array([[2, 0, 0],\n",
       "       [0, 3, 0],\n",
       "       [0, 0, 4]])"
      ]
     },
     "execution_count": 16,
     "metadata": {},
     "output_type": "execute_result"
    }
   ],
   "source": [
    "dig = np.array([2,3,4])\n",
    "np.diag(dig)"
   ]
  },
  {
   "cell_type": "code",
   "execution_count": null,
   "id": "4fc2196f",
   "metadata": {},
   "outputs": [],
   "source": []
  }
 ],
 "metadata": {
  "kernelspec": {
   "display_name": "Python 3 (ipykernel)",
   "language": "python",
   "name": "python3"
  },
  "language_info": {
   "codemirror_mode": {
    "name": "ipython",
    "version": 3
   },
   "file_extension": ".py",
   "mimetype": "text/x-python",
   "name": "python",
   "nbconvert_exporter": "python",
   "pygments_lexer": "ipython3",
   "version": "3.9.7"
  }
 },
 "nbformat": 4,
 "nbformat_minor": 5
}
